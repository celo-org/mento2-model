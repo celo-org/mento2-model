{
 "cells": [
  {
   "cell_type": "markdown",
   "id": "ae75e121",
   "metadata": {},
   "source": [
    "# Environment Setup"
   ]
  },
  {
   "cell_type": "markdown",
   "id": "77ecab83",
   "metadata": {},
   "source": [
    "## Check Python version\n",
    "\n",
    "Should be version 3.7, 3.8, or 3.9. The model is tested against all three versions, and the masterclass uses version 3.8."
   ]
  },
  {
   "cell_type": "code",
   "execution_count": null,
   "id": "46b3e675",
   "metadata": {},
   "outputs": [],
   "source": [
    "!python --version"
   ]
  },
  {
   "cell_type": "markdown",
   "id": "294411bb",
   "metadata": {},
   "source": [
    "## Install dependencies\n",
    "If you have not installed the dependencies from the `Pipfile`, you can do so here: "
   ]
  },
  {
   "cell_type": "code",
   "execution_count": null,
   "id": "f6665f5f",
   "metadata": {},
   "outputs": [],
   "source": [
    "!pipenv install\n",
    "!pipenv install --dev"
   ]
  },
  {
   "cell_type": "markdown",
   "id": "cfee2c03",
   "metadata": {},
   "source": [
    "## Check package version\n",
    "\n",
    "Both of the below operations should show the same package version."
   ]
  },
  {
   "cell_type": "code",
   "execution_count": null,
   "id": "03e18476",
   "metadata": {},
   "outputs": [],
   "source": [
    "%pip show radcad"
   ]
  },
  {
   "cell_type": "code",
   "execution_count": null,
   "id": "f33ccd99",
   "metadata": {},
   "outputs": [],
   "source": [
    "import radcad"
   ]
  },
  {
   "cell_type": "code",
   "execution_count": null,
   "id": "2a21fe4a",
   "metadata": {},
   "outputs": [],
   "source": [
    "radcad.__version__"
   ]
  },
  {
   "cell_type": "markdown",
   "id": "dd959679",
   "metadata": {},
   "source": [
    "## Check Plotly output\n",
    "\n",
    "Should render a line chart."
   ]
  },
  {
   "cell_type": "code",
   "execution_count": null,
   "id": "16532f93",
   "metadata": {},
   "outputs": [],
   "source": [
    "import plotly.express as px\n",
    "\n",
    "px.line(x=[0, 1, 2], y=[0, 1, 2])"
   ]
  },
  {
   "cell_type": "code",
   "execution_count": null,
   "id": "ad1e78d8",
   "metadata": {},
   "outputs": [],
   "source": []
  }
 ],
 "metadata": {
  "kernelspec": {
   "display_name": "mento2-model",
   "language": "python",
   "name": "mento2-model"
  },
  "language_info": {
   "codemirror_mode": {
    "name": "ipython",
    "version": 3
   },
   "file_extension": ".py",
   "mimetype": "text/x-python",
   "name": "python",
   "nbconvert_exporter": "python",
   "pygments_lexer": "ipython3",
   "version": "3.8.12"
  }
 },
 "nbformat": 4,
 "nbformat_minor": 5
}
