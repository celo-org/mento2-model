{
 "cells": [
  {
   "cell_type": "code",
   "execution_count": null,
   "metadata": {},
   "outputs": [],
   "source": [
    "# Import the setup module:\n",
    "# * sets up the Python path\n",
    "# * runs shared notebook-configuration methods, such as loading IPython modules\n",
    "import setup\n",
    "\n",
    "# External dependencies\n",
    "import copy\n",
    "import logging\n",
    "import pandas as pd\n",
    "import plotly.express as px\n",
    "from pprint import pprint\n",
    "import importlib as imp\n",
    "\n",
    "# Project dependencies\n",
    "import model.constants as constants\n",
    "from experiments.run import run\n",
    "from experiments.utils import display_code\n",
    "import experiments.notebooks.visualizations as visualizations\n",
    "\n"
   ]
  },
  {
   "cell_type": "code",
   "execution_count": null,
   "metadata": {},
   "outputs": [],
   "source": [
    "import experiments.default_experiment as default_experiment\n",
    "simulation_analysis_1 = copy.deepcopy(default_experiment.experiment.simulations[0])"
   ]
  },
  {
   "cell_type": "code",
   "execution_count": null,
   "metadata": {},
   "outputs": [],
   "source": [
    "simulation_analysis_1.model.params"
   ]
  },
  {
   "cell_type": "code",
   "execution_count": null,
   "metadata": {},
   "outputs": [],
   "source": [
    "#%%timeit\n",
    "df, exceptions = run(simulation_analysis_1)"
   ]
  },
  {
   "cell_type": "code",
   "execution_count": null,
   "metadata": {},
   "outputs": [],
   "source": [
    "from model.generators.markets import MarketPriceGenerator as MPG\n",
    "from model.parts import market_prices as mp"
   ]
  },
  {
   "cell_type": "code",
   "execution_count": null,
   "metadata": {},
   "outputs": [],
   "source": [
    "%lprun -T lprof0 -f MPG.valuate_price_impact run(simulation_analysis_1)"
   ]
  }
 ],
 "metadata": {
  "interpreter": {
   "hash": "0099d7a5df03de4dbbf4585d307bc8b6ff2d8eebfd7fc758c5d12d8614aba3fd"
  },
  "kernelspec": {
   "display_name": "Python 3.8.9 ('mento2-model-pB13x3JD')",
   "language": "python",
   "name": "python3"
  },
  "language_info": {
   "codemirror_mode": {
    "name": "ipython",
    "version": 3
   },
   "file_extension": ".py",
   "mimetype": "text/x-python",
   "name": "python",
   "nbconvert_exporter": "python",
   "pygments_lexer": "ipython3",
   "version": "3.8.12"
  }
 },
 "nbformat": 4,
 "nbformat_minor": 2
}
