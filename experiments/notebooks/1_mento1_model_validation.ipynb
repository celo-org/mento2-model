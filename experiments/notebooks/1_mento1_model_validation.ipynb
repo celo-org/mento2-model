{
 "cells": [
  {
   "cell_type": "markdown",
   "id": "ea8ea49c",
   "metadata": {},
   "source": [
    "# Experiment Notebook: Mento 1.0 Model Validation"
   ]
  },
  {
   "cell_type": "markdown",
   "id": "c2ba70b7",
   "metadata": {},
   "source": [
    "# Table of Contents\n",
    "* [Experiment Summary](#Experiment-Summary)\n",
    "* [Experiment Assumptions](#Experiment-Assumptions)\n",
    "* [Experiment Setup](#Experiment-Setup)\n",
    "* [Analysis 1: Profit Yields Across Validator Environments](#Analysis-1:-Profit-Yields-Across-Validator-Environments)\n",
    "* [Analysis 2: Network Yields and Network Inflation](#Analysis-2:-Network-Yields-and-Network-Inflation)\n",
    "* [Analysis 3: Revenue/Profit Yield Spread (\"Three Region Analysis\")](#Analysis-3:-Revenue/Profit-Yield-Spread-(\"Three-Region-Analysis\"))"
   ]
  },
  {
   "cell_type": "markdown",
   "id": "dac9832b",
   "metadata": {},
   "source": [
    "# Experiment Summary \n",
    "\n",
    "The purpose of this notebook is to analyze the Mento 1.0 setup and test and validate the Mento 1.0 model by backchecking the results of this analysis against empiracal Mento 1.0 data.\n",
    "\n",
    "# Experiment Assumptions\n",
    "\n",
    "Our model adopts a range of assumptions... tbd\n",
    "\n",
    "See [assumptions document](../../ASSUMPTIONS.md) for further details."
   ]
  },
  {
   "cell_type": "markdown",
   "id": "91f4c9e8",
   "metadata": {},
   "source": [
    "# Experiment Setup\n",
    "\n",
    "We begin with several experiment-notebook-level preparatory setup operations:\n",
    "\n",
    "* Import relevant dependencies\n",
    "* Import relevant experiment templates\n",
    "* Create copies of experiments\n",
    "* Configure and customize experiments \n",
    "\n",
    "Analysis-specific setup operations are handled in their respective notebook sections."
   ]
  },
  {
   "cell_type": "code",
   "execution_count": null,
   "id": "f9e5f3a2",
   "metadata": {},
   "outputs": [],
   "source": [
    "import setup\n",
    "\n",
    "import copy\n",
    "import logging\n",
    "import numpy as np\n",
    "from radcad import Engine\n",
    "\n",
    "import experiments.notebooks.visualizations as visualizations\n",
    "from experiments.run import run\n",
    "from model.types import Stage"
   ]
  },
  {
   "cell_type": "code",
   "execution_count": null,
   "id": "4aa470f0",
   "metadata": {},
   "outputs": [],
   "source": [
    "# Enable/disable logging\n",
    "logger = logging.getLogger()\n",
    "logger.disabled = True"
   ]
  },
  {
   "cell_type": "code",
   "execution_count": null,
   "id": "7da657dd",
   "metadata": {},
   "outputs": [],
   "source": [
    "# Import experiment templates\n",
    "from experiments.default_experiment import experiment, TIMESTEPS, DELTA_TIME"
   ]
  },
  {
   "cell_type": "code",
   "execution_count": null,
   "id": "2c929b85",
   "metadata": {},
   "outputs": [],
   "source": [
    "# Create a copy of the simulation\n",
    "simulation = copy.deepcopy(experiment.simulations[0])\n",
    "\n",
    "# Override default-experiment System Parameters\n",
    "# using assumptions from Hoban/Borgers Economic Report\n",
    "simulation.model.params.update({\n",
    "    \"stage\": [Stage.BEACON_CHAIN],\n",
    "    \"daily_pow_issuance\": [0],  # ETH\n",
    "    # Combine the validator internet (99.9%), power (99.9%), and technical (98.2%) uptime\n",
    "    # from Hoban/Borgers Report\n",
    "    \"validator_uptime_process\": [lambda _run, _timestep: 0.999 * 0.999 * 0.982],  # Percentage (unitless)\n",
    "})\n",
    "\n",
    "# Override default-experiment State Variables\n",
    "# using assumptions from Hoban/Borgers Economic Report\n",
    "simulation.model.initial_state.update({\n",
    "    \"eth_supply\": 112_000_000,  # ETH\n",
    "    \"eth_price\": 25,  # USD/ETH\n",
    "    \"eth_staked\": 524_288,  # ETH\n",
    "    \"number_of_validators\": 16_384,  # Unitless\n",
    "})\n",
    "\n",
    "# Set runs to number of ETH price / staked samples\n",
    "simulation.runs = 50\n",
    "# Run single timestep, set unit of time `dt` to multiple epochs\n",
    "# (see 0_README.ipynb for further details)\n",
    "simulation.timesteps = 1\n",
    "simulation.model.params.update({\"dt\": [TIMESTEPS * DELTA_TIME]})\n",
    "\n",
    "# Drop state history substeps to improve performance\n",
    "# (see 0_README.ipynb for further details)\n",
    "simulation.engine = Engine(drop_substeps=True)"
   ]
  },
  {
   "cell_type": "markdown",
   "id": "04943f9f",
   "metadata": {},
   "source": [
    "### Configuration"
   ]
  },
  {
   "cell_type": "code",
   "execution_count": null,
   "id": "577c557a",
   "metadata": {},
   "outputs": [],
   "source": [
    "# Create a copy of the simulation\n",
    "simulation_1 = copy.deepcopy(simulation)\n",
    "\n",
    "# Create a range of 50 discrete ETH price values starting at\n",
    "# 25 USD/ETH and ending at 1500 USD/ETH\n",
    "# Assumption adopted from Hoban/Borgers Economic Report\n",
    "eth_price_samples = np.linspace(\n",
    "    start=25,\n",
    "    stop=1500,\n",
    "    num=50\n",
    ")\n",
    "\n",
    "parameter_overrides = {\n",
    "    \"eth_price_process\": [\n",
    "        # Sample the ETH price values using the run as the index\n",
    "        lambda run, timestep: eth_price_samples[run - 1]\n",
    "    ],\n",
    "    \"eth_staked_process\": [\n",
    "        # A sweep of two fixed ETH staked points\n",
    "        # Assumption adopted from Hoban/Borgers Economic Report\n",
    "        lambda _run, _timestep: 524_288,  # Beacon Chain genesis ETH staked requirement\n",
    "        lambda _run, _timestep: 33_600_000,  # 30% of the total ETH supply\n",
    "    ],\n",
    "}\n",
    "\n",
    "# Override default experiment parameters\n",
    "simulation_1.model.params.update(parameter_overrides)"
   ]
  },
  {
   "cell_type": "markdown",
   "id": "39e8ebc9",
   "metadata": {},
   "source": [
    "### Execution"
   ]
  },
  {
   "cell_type": "code",
   "execution_count": null,
   "id": "9955e14d",
   "metadata": {},
   "outputs": [],
   "source": [
    "df_1, exceptions = run(simulation_1)"
   ]
  },
  {
   "cell_type": "markdown",
   "id": "cd04f6cd",
   "metadata": {},
   "source": [
    "### Output Preparation"
   ]
  },
  {
   "cell_type": "code",
   "execution_count": null,
   "id": "1fca2536",
   "metadata": {},
   "outputs": [],
   "source": [
    "df_1"
   ]
  }
 ],
 "metadata": {
  "kernelspec": {
   "display_name": "Python 3",
   "language": "python",
   "name": "python3"
  },
  "language_info": {
   "codemirror_mode": {
    "name": "ipython",
    "version": 3
   },
   "file_extension": ".py",
   "mimetype": "text/x-python",
   "name": "python",
   "nbconvert_exporter": "python",
   "pygments_lexer": "ipython3",
   "version": "3.10.0"
  }
 },
 "nbformat": 4,
 "nbformat_minor": 5
}
