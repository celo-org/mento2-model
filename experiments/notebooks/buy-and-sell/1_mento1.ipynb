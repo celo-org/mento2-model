{
 "cells": [
  {
   "cell_type": "markdown",
   "id": "f959b450",
   "metadata": {},
   "source": [
    "# Experiment README"
   ]
  },
  {
   "cell_type": "markdown",
   "id": "afd28658",
   "metadata": {},
   "source": [
    "## Table of Contents\n",
    "\n",
    "* [Overview of Experiment Architecture](#Overview-of-Experiment-Architecture)\n",
    "* [Experiment Workflow](#Experiment-Workflow)\n",
    "    * [Modifying State Variables](#Modifying-State-Variables)\n",
    "    * [Modifying System Parameters](#Modifying-System-Parameters)\n",
    "    * [Executing Experiments](#Executing-Experiments)\n",
    "    * [Post-processing and Analysing Results](#Post-processing-and-Analysing-Results)\n",
    "    * [Visualizing Results](#Visualizing-Results)\n",
    "* [Creating New, Customized Experiment Notebooks](#Creating-New,-Customized-Experiment-Notebooks)\n",
    "    * Step 1: Select an experiment template\n",
    "    * Step 2: Create a new notebook\n",
    "    * Step 3: Customize the experiment\n",
    "    * Step 4: Execute the experiment\n",
    "* [Advanced Experiment-configuration & Simulation Techniques](#Advanced-Experiment-configuration-&-Simulation-Techniques)\n",
    "    * [Setting Simulation Timesteps and Unit of Time `dt`](#Setting-Simulation-Timesteps-and-Unit-of-Time-dt)\n",
    "    * [Changing the Ethereum Network Upgrade Stage](#Changing-the-Ethereum-Network-Upgrade-Stage)\n",
    "    * [Performing Large-scale Experiments](#Performing-Large-scale-Experiments)"
   ]
  },
  {
   "cell_type": "markdown",
   "id": "5335577a",
   "metadata": {},
   "source": [
    "# Overview of Experiment Architecture\n",
    "\n",
    "The experiment architecture is composed of the following four elements – the **model**, **default experiment**, **experiment templates**, and **experiment notebooks**:\n",
    "\n",
    "1. The **model** is initialized with a default Initial State and set of System Parameters defined in the `model` module.\n",
    "2. The **default experiment** – in the `experiments.default_experiment` module – is an experiment composed of a single simulation that uses the default cadCAD **model** Initial State and System Parameters. Additional default simulation execution settings such as the number of timesteps and runs are also set in the **default experiment**.\n",
    "3. The **experiment templates** – in the `experiments.templates` module – contain pre-configured analyses based on the **default experiment**. Examples include... To be created!\n",
    "4. The **experiment notebooks** perform various scenario analyses by importing existing **experiment templates**, optionally modifying the Initial State and System Parameters within the notebook, and then executing them."
   ]
  },
  {
   "cell_type": "markdown",
   "id": "34345968",
   "metadata": {},
   "source": [
    "# Experiment Workflow\n",
    "\n",
    "If you just want to run (execute) existing experiment notebooks, simply open the respective notebook and execute all cells."
   ]
  },
  {
   "cell_type": "markdown",
   "id": "6a3d6ab4",
   "metadata": {},
   "source": [
    "Depending on the chosen template and planned analysis, the required imports might differ slightly from the below standard dependencies:"
   ]
  },
  {
   "cell_type": "code",
   "execution_count": null,
   "id": "80e70b16",
   "metadata": {},
   "outputs": [],
   "source": [
    "# Import the setup module:\n",
    "# * sets up the Python path\n",
    "# * runs shared notebook-configuration methods, such as loading IPython modules\n",
    "import setup\n",
    "\n",
    "# External dependencies\n",
    "from pprint import pprint\n",
    "import copy\n",
    "import logging\n",
    "import pandas as pd\n",
    "import importlib as imp\n",
    "import matplotlib\n",
    "import matplotlib.pyplot as plt\n",
    "\n",
    "# Project dependencies\n",
    "import model.constants as constants\n",
    "from experiments.run import run\n",
    "import experiments.visualizations as visualizations\n",
    "import experiments.default_experiment as default_experiment\n",
    "\n",
    "# types\n",
    "from model.types import *\n",
    "from model.entities.balance import Balance\n",
    "\n",
    "# options\n",
    "pd.options.plotting.backend = 'matplotlib'\n",
    "%matplotlib inline"
   ]
  },
  {
   "cell_type": "markdown",
   "id": "8344e095",
   "metadata": {},
   "source": [
    "We can then create a copy of the simulation object – we create a new copy for each analysis we'd like to perform:"
   ]
  },
  {
   "cell_type": "code",
   "execution_count": null,
   "id": "9a789f32",
   "metadata": {},
   "outputs": [],
   "source": [
    "simulation_analysis_1 = copy.deepcopy(default_experiment.experiment.simulations[0])"
   ]
  },
  {
   "cell_type": "markdown",
   "id": "04bd7d53",
   "metadata": {},
   "source": [
    "## Modifying State Variables"
   ]
  },
  {
   "cell_type": "markdown",
   "id": "5807d1db",
   "metadata": {},
   "source": [
    "To view what the Initial State (radCAD model-configuration setting `initial_state`) of the State Variables are, and to what value they have been set, we can inspect the dictionary as follows:"
   ]
  },
  {
   "cell_type": "code",
   "execution_count": null,
   "id": "466f9f7f",
   "metadata": {},
   "outputs": [],
   "source": [
    "pprint(simulation_analysis_1.model.initial_state)\n",
    "# simulation_analysis_1.model.state"
   ]
  },
  {
   "cell_type": "markdown",
   "id": "0f20397e",
   "metadata": {},
   "source": [
    "To modify the value of **State Variables** for a specific analysis, you need to select the relevant simulation and update the chosen model Initial State. For example, updating the `floating_supply` Initial State to `100e6` CELO and `123e5` cUSD."
   ]
  },
  {
   "cell_type": "code",
   "execution_count": null,
   "id": "c6ac17d6",
   "metadata": {},
   "outputs": [],
   "source": [
    "simulation_analysis_1.model.initial_state.update({\n",
    "    'reserve_balance': Balance({\n",
    "        CryptoAsset.CELO: 120.0e6,\n",
    "        Stable.CUSD: 0.0\n",
    "    }),\n",
    "})"
   ]
  },
  {
   "cell_type": "code",
   "execution_count": null,
   "id": "9f2cee35",
   "metadata": {},
   "outputs": [],
   "source": [
    "pprint(simulation_analysis_1.model.initial_state)"
   ]
  },
  {
   "cell_type": "markdown",
   "id": "2cb589e5",
   "metadata": {},
   "source": [
    "## Modifying System Parameters"
   ]
  },
  {
   "cell_type": "markdown",
   "id": "fbdcf7ed",
   "metadata": {},
   "source": [
    "To view what the System Parameters (radCAD model configuration setting `params`) are, and to what value they have been set, we can inspect the dictionary as follows:"
   ]
  },
  {
   "cell_type": "code",
   "execution_count": null,
   "id": "aacdf992",
   "metadata": {},
   "outputs": [],
   "source": [
    "pprint(simulation_analysis_1.model.params)"
   ]
  },
  {
   "cell_type": "markdown",
   "id": "7471a5ed",
   "metadata": {},
   "source": [
    "To modify the value of **System Parameters** for a specific analysis, you need to select the relevant simulation, and update the chosen model System Parameter (which is a list of values). For example, updating the `reserve_fraction` System Parameter to a sweep of two values, `0.001` and `0.01`:"
   ]
  },
  {
   "cell_type": "code",
   "execution_count": null,
   "id": "650c6e84",
   "metadata": {},
   "outputs": [],
   "source": [
    "simulation_analysis_1.model.params.update({\n",
    "    \"reserve_fraction\": [0.5],\n",
    "})"
   ]
  },
  {
   "cell_type": "markdown",
   "id": "de531fb7",
   "metadata": {},
   "source": [
    "## Executing Experiments"
   ]
  },
  {
   "cell_type": "markdown",
   "id": "bb69b0e8",
   "metadata": {},
   "source": [
    "We can now execute our custom analysis and retrieve the post-processed Pandas DataFrame using the `run(...)` method:"
   ]
  },
  {
   "cell_type": "code",
   "execution_count": null,
   "id": "6125f40a",
   "metadata": {
    "pycharm": {
     "name": "#%%\n"
    }
   },
   "outputs": [],
   "source": [
    "df, exceptions = run(simulation_analysis_1)"
   ]
  },
  {
   "cell_type": "markdown",
   "id": "d08319ab",
   "metadata": {},
   "source": [
    "## Post-processing and Analysing Results"
   ]
  },
  {
   "cell_type": "markdown",
   "id": "cf691aa9",
   "metadata": {},
   "source": [
    "We can see that we had no exceptions for the single simulation we executed:"
   ]
  },
  {
   "cell_type": "code",
   "execution_count": null,
   "id": "b1f85f28",
   "metadata": {},
   "outputs": [],
   "source": [
    "exceptions[0]['exception'] == None"
   ]
  },
  {
   "cell_type": "markdown",
   "id": "137779dc",
   "metadata": {},
   "source": [
    "We can simply display the Pandas DataFrame to inspect the results. This DataFrame already has some default post-processing applied (see [experiments/post_processing.py](../post_processing.py)). For example, parameters that change in the parameter grid (if there are any) are attached as columns to the end of the dataframe."
   ]
  },
  {
   "cell_type": "code",
   "execution_count": null,
   "id": "a402a1ad",
   "metadata": {},
   "outputs": [],
   "source": [
    "df.head()"
   ]
  },
  {
   "cell_type": "code",
   "execution_count": null,
   "id": "25df760c",
   "metadata": {},
   "outputs": [],
   "source": [
    "pprint(df['subset'].unique())\n",
    "pprint(df['run'].unique())"
   ]
  },
  {
   "cell_type": "code",
   "execution_count": null,
   "id": "2820c404-e38a-4803-a881-3a2c606b8d66",
   "metadata": {},
   "outputs": [],
   "source": [
    "# distinguish substeps over time\n",
    "# requires `experiment.engine.drop_substeps = True`in default_experiment.py\n",
    "#df['scaled_timestep'] = df['timestep']*10+df['substep']"
   ]
  },
  {
   "cell_type": "markdown",
   "id": "26f2e7ef",
   "metadata": {},
   "source": [
    "## Visualizing Results"
   ]
  },
  {
   "cell_type": "markdown",
   "id": "6ac53e3b",
   "metadata": {},
   "source": [
    "Once we have the results post-processed and in a Pandas DataFrame, we can use Plotly for plotting our results (here two subsets because of the `reserve_fraction` parameter sweep introduced above):"
   ]
  },
  {
   "cell_type": "markdown",
   "id": "7c9d6c94",
   "metadata": {},
   "source": [
    "- Celo market price\n",
    "- cUSD market price\n",
    "- Oracle rate\n",
    "- Floating supply Celo\n",
    "- floating supply cusd\n",
    "- Mento buckets celo cusd"
   ]
  },
  {
   "cell_type": "code",
   "execution_count": null,
   "id": "4db03b67",
   "metadata": {},
   "outputs": [],
   "source": [
    "# timestep window\n",
    "#df = df[df.index<250]"
   ]
  },
  {
   "cell_type": "code",
   "execution_count": null,
   "id": "0ce4c84a",
   "metadata": {},
   "outputs": [],
   "source": [
    "visualizations.plot_helper(data_frame=df, column_label='market_price_celo_usd')"
   ]
  },
  {
   "cell_type": "code",
   "execution_count": null,
   "id": "6d722f9c",
   "metadata": {},
   "outputs": [],
   "source": [
    "visualizations.plot_helper(data_frame=df, column_label='market_price_cusd_usd')"
   ]
  },
  {
   "cell_type": "code",
   "execution_count": null,
   "id": "dd0205e0",
   "metadata": {},
   "outputs": [],
   "source": [
    "visualizations.plot_helper(data_frame=df, column_label='oracle_rate_celo_usd')"
   ]
  },
  {
   "cell_type": "code",
   "execution_count": null,
   "id": "37bbc872",
   "metadata": {},
   "outputs": [],
   "source": [
    "visualizations.plot_helper(data_frame=df, column_label='floating_supply_celo', y_label='# tokens')"
   ]
  },
  {
   "cell_type": "code",
   "execution_count": null,
   "id": "478dac15",
   "metadata": {},
   "outputs": [],
   "source": [
    "visualizations.plot_helper(data_frame=df, column_label='floating_supply_cusd', y_label='# tokens')"
   ]
  },
  {
   "cell_type": "code",
   "execution_count": null,
   "id": "9141ea24",
   "metadata": {},
   "outputs": [],
   "source": [
    "visualizations.plot_helper(data_frame=df, column_label='mento_buckets_cusd_celo.reserve_asset', y_label='# tokens')"
   ]
  },
  {
   "cell_type": "code",
   "execution_count": null,
   "id": "d38f7659",
   "metadata": {},
   "outputs": [],
   "source": [
    "visualizations.plot_helper(data_frame=df, column_label='mento_buckets_cusd_celo.stable', y_label='# tokens')"
   ]
  },
  {
   "cell_type": "code",
   "execution_count": null,
   "id": "f13aca0f",
   "metadata": {},
   "outputs": [],
   "source": [
    "visualizations.plot_helper(data_frame=df, column_label='reserve_balance_celo', y_label='# tokens')"
   ]
  },
  {
   "cell_type": "code",
   "execution_count": null,
   "id": "9747d592",
   "metadata": {},
   "outputs": [],
   "source": [
    "visualizations.plot_helper(data_frame=df, column_label='mento_rate_cusd_celo')"
   ]
  },
  {
   "cell_type": "code",
   "execution_count": null,
   "id": "26754f45",
   "metadata": {},
   "outputs": [],
   "source": []
  },
  {
   "cell_type": "code",
   "execution_count": null,
   "id": "8cf99b46",
   "metadata": {},
   "outputs": [],
   "source": []
  }
 ],
 "metadata": {
  "interpreter": {
   "hash": "e0d943ef511eb062da37f0005de9c5ca6dc4c50b1f75cb4cb85f428d08d55d84"
  },
  "kernelspec": {
   "display_name": "Python 3.8.9 ('mento2-model-ZNlqjaYt')",
   "language": "python",
   "name": "python3"
  },
  "language_info": {
   "codemirror_mode": {
    "name": "ipython",
    "version": 3
   },
   "file_extension": ".py",
   "mimetype": "text/x-python",
   "name": "python",
   "nbconvert_exporter": "python",
   "pygments_lexer": "ipython3",
   "version": "3.8.9"
  }
 },
 "nbformat": 4,
 "nbformat_minor": 5
}
