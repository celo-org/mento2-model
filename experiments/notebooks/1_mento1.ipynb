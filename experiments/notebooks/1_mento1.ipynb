{
 "cells": [
  {
   "cell_type": "markdown",
   "id": "f959b450",
   "metadata": {},
   "source": [
    "# Experiment README"
   ]
  },
  {
   "cell_type": "markdown",
   "id": "afd28658",
   "metadata": {},
   "source": [
    "## Table of Contents\n",
    "\n",
    "* [Overview of Experiment Architecture](#Overview-of-Experiment-Architecture)\n",
    "* [Experiment Workflow](#Experiment-Workflow)\n",
    "    * [Modifying State Variables](#Modifying-State-Variables)\n",
    "    * [Modifying System Parameters](#Modifying-System-Parameters)\n",
    "    * [Executing Experiments](#Executing-Experiments)\n",
    "    * [Post-processing and Analysing Results](#Post-processing-and-Analysing-Results)\n",
    "    * [Visualizing Results](#Visualizing-Results)\n",
    "* [Creating New, Customized Experiment Notebooks](#Creating-New,-Customized-Experiment-Notebooks)\n",
    "    * Step 1: Select an experiment template\n",
    "    * Step 2: Create a new notebook\n",
    "    * Step 3: Customize the experiment\n",
    "    * Step 4: Execute the experiment\n",
    "* [Advanced Experiment-configuration & Simulation Techniques](#Advanced-Experiment-configuration-&-Simulation-Techniques)\n",
    "    * [Setting Simulation Timesteps and Unit of Time `dt`](#Setting-Simulation-Timesteps-and-Unit-of-Time-dt)\n",
    "    * [Changing the Ethereum Network Upgrade Stage](#Changing-the-Ethereum-Network-Upgrade-Stage)\n",
    "    * [Performing Large-scale Experiments](#Performing-Large-scale-Experiments)"
   ]
  },
  {
   "cell_type": "markdown",
   "id": "5335577a",
   "metadata": {},
   "source": [
    "# Overview of Experiment Architecture\n",
    "\n",
    "The experiment architecture is composed of the following four elements – the **model**, **default experiment**, **experiment templates**, and **experiment notebooks**:\n",
    "\n",
    "1. The **model** is initialized with a default Initial State and set of System Parameters defined in the `model` module.\n",
    "2. The **default experiment** – in the `experiments.default_experiment` module – is an experiment composed of a single simulation that uses the default cadCAD **model** Initial State and System Parameters. Additional default simulation execution settings such as the number of timesteps and runs are also set in the **default experiment**.\n",
    "3. The **experiment templates** – in the `experiments.templates` module – contain pre-configured analyses based on the **default experiment**. Examples include... To be created!\n",
    "4. The **experiment notebooks** perform various scenario analyses by importing existing **experiment templates**, optionally modifying the Initial State and System Parameters within the notebook, and then executing them."
   ]
  },
  {
   "cell_type": "markdown",
   "id": "34345968",
   "metadata": {},
   "source": [
    "# Experiment Workflow\n",
    "\n",
    "If you just want to run (execute) existing experiment notebooks, simply open the respective notebook and execute all cells."
   ]
  },
  {
   "cell_type": "markdown",
   "id": "6a3d6ab4",
   "metadata": {},
   "source": [
    "Depending on the chosen template and planned analysis, the required imports might differ slightly from the below standard dependencies:"
   ]
  },
  {
   "cell_type": "code",
   "execution_count": 1,
   "id": "80e70b16",
   "metadata": {},
   "outputs": [
    {
     "name": "stdout",
     "output_type": "stream",
     "text": [
      "> \u001b[0;32m/home/bowd/Workspace/job/celo/mento2-model/model/generators/factroy.py\u001b[0m(12)\u001b[0;36m__init__\u001b[0;34m()\u001b[0m\n",
      "\u001b[0;32m     10 \u001b[0;31m    \u001b[0;32mdef\u001b[0m \u001b[0m__init__\u001b[0m\u001b[0;34m(\u001b[0m\u001b[0mself\u001b[0m\u001b[0;34m,\u001b[0m \u001b[0mcomponents\u001b[0m\u001b[0;34m:\u001b[0m \u001b[0mList\u001b[0m\u001b[0;34m[\u001b[0m\u001b[0mType\u001b[0m\u001b[0;34m[\u001b[0m\u001b[0mGenerator\u001b[0m\u001b[0;34m]\u001b[0m\u001b[0;34m]\u001b[0m\u001b[0;34m=\u001b[0m\u001b[0;34m[\u001b[0m\u001b[0;34m]\u001b[0m\u001b[0;34m)\u001b[0m\u001b[0;34m:\u001b[0m\u001b[0;34m\u001b[0m\u001b[0;34m\u001b[0m\u001b[0m\n",
      "\u001b[0m\u001b[0;32m     11 \u001b[0;31m        \u001b[0;32mfrom\u001b[0m \u001b[0mIPython\u001b[0m\u001b[0;34m.\u001b[0m\u001b[0mcore\u001b[0m\u001b[0;34m.\u001b[0m\u001b[0mdebugger\u001b[0m \u001b[0;32mimport\u001b[0m \u001b[0mset_trace\u001b[0m\u001b[0;34m;\u001b[0m \u001b[0mset_trace\u001b[0m\u001b[0;34m(\u001b[0m\u001b[0;34m)\u001b[0m\u001b[0;34m\u001b[0m\u001b[0;34m\u001b[0m\u001b[0m\n",
      "\u001b[0m\u001b[0;32m---> 12 \u001b[0;31m        \u001b[0mself\u001b[0m\u001b[0;34m.\u001b[0m\u001b[0mcomponents\u001b[0m \u001b[0;34m=\u001b[0m \u001b[0mcomponents\u001b[0m\u001b[0;34m\u001b[0m\u001b[0;34m\u001b[0m\u001b[0m\n",
      "\u001b[0m\u001b[0;32m     13 \u001b[0;31m\u001b[0;34m\u001b[0m\u001b[0m\n",
      "\u001b[0m\u001b[0;32m     14 \u001b[0;31m    \u001b[0;32mdef\u001b[0m \u001b[0mbefore_subset\u001b[0m\u001b[0;34m(\u001b[0m\u001b[0mself\u001b[0m\u001b[0;34m,\u001b[0m \u001b[0mcontext\u001b[0m\u001b[0;34m:\u001b[0m \u001b[0mContext\u001b[0m \u001b[0;34m=\u001b[0m \u001b[0;32mNone\u001b[0m\u001b[0;34m)\u001b[0m\u001b[0;34m:\u001b[0m\u001b[0;34m\u001b[0m\u001b[0;34m\u001b[0m\u001b[0m\n",
      "\u001b[0m\n",
      "time: 2.39 s (started: 2022-02-02 15:44:56 +01:00)\n"
     ]
    }
   ],
   "source": [
    "# Import the setup module:\n",
    "# * sets up the Python path\n",
    "# * runs shared notebook-configuration methods, such as loading IPython modules\n",
    "import setup\n",
    "\n",
    "# External dependencies\n",
    "import copy\n",
    "import logging\n",
    "import pandas as pd\n",
    "import plotly.express as px\n",
    "from pprint import pprint\n",
    "import importlib as imp\n",
    "\n",
    "# Project dependencies\n",
    "import model.constants as constants\n",
    "from experiments.run import run\n",
    "from experiments.utils import display_code\n",
    "import experiments.notebooks.visualizations as visualizations"
   ]
  },
  {
   "cell_type": "code",
   "execution_count": 2,
   "id": "0dda0d6d",
   "metadata": {},
   "outputs": [
    {
     "name": "stdout",
     "output_type": "stream",
     "text": [
      "The autotime extension is already loaded. To reload it, use:\n",
      "  %reload_ext autotime\n",
      "The autoreload extension is already loaded. To reload it, use:\n",
      "  %reload_ext autoreload\n"
     ]
    },
    {
     "data": {
      "text/plain": [
       "<module 'setup' from '/home/bowd/Workspace/job/celo/mento2-model/experiments/notebooks/setup.py'>"
      ]
     },
     "execution_count": 2,
     "metadata": {},
     "output_type": "execute_result"
    },
    {
     "name": "stdout",
     "output_type": "stream",
     "text": [
      "time: 22.5 ms (started: 2022-02-02 15:44:58 +01:00)\n"
     ]
    }
   ],
   "source": [
    "imp.reload(setup)"
   ]
  },
  {
   "cell_type": "markdown",
   "id": "8344e095",
   "metadata": {},
   "source": [
    "We can then import the default experiment, and create a copy of the simulation object – we create a new copy for each analysis we'd like to perform:"
   ]
  },
  {
   "cell_type": "code",
   "execution_count": 3,
   "id": "9a789f32",
   "metadata": {},
   "outputs": [
    {
     "name": "stdout",
     "output_type": "stream",
     "text": [
      "time: 20.1 ms (started: 2022-02-02 15:44:58 +01:00)\n"
     ]
    }
   ],
   "source": [
    "import experiments.default_experiment as default_experiment\n",
    "simulation_analysis_1 = copy.deepcopy(default_experiment.experiment.simulations[0])"
   ]
  },
  {
   "cell_type": "markdown",
   "id": "b9460b62",
   "metadata": {},
   "source": [
    "We can use the `display_code` method to see the configuration of the default experiment before making changes:"
   ]
  },
  {
   "cell_type": "code",
   "execution_count": 4,
   "id": "df71671c",
   "metadata": {
    "scrolled": false
   },
   "outputs": [
    {
     "data": {
      "text/html": [
       "<style>pre { line-height: 125%; }\n",
       "td.linenos .normal { color: inherit; background-color: transparent; padding-left: 5px; padding-right: 5px; }\n",
       "span.linenos { color: inherit; background-color: transparent; padding-left: 5px; padding-right: 5px; }\n",
       "td.linenos .special { color: #000000; background-color: #ffffc0; padding-left: 5px; padding-right: 5px; }\n",
       "span.linenos.special { color: #000000; background-color: #ffffc0; padding-left: 5px; padding-right: 5px; }\n",
       ".highlight .hll { background-color: #ffffcc }\n",
       ".highlight { background: #f8f8f8; }\n",
       ".highlight .c { color: #3D7B7B; font-style: italic } /* Comment */\n",
       ".highlight .err { border: 1px solid #FF0000 } /* Error */\n",
       ".highlight .k { color: #008000; font-weight: bold } /* Keyword */\n",
       ".highlight .o { color: #666666 } /* Operator */\n",
       ".highlight .ch { color: #3D7B7B; font-style: italic } /* Comment.Hashbang */\n",
       ".highlight .cm { color: #3D7B7B; font-style: italic } /* Comment.Multiline */\n",
       ".highlight .cp { color: #9C6500 } /* Comment.Preproc */\n",
       ".highlight .cpf { color: #3D7B7B; font-style: italic } /* Comment.PreprocFile */\n",
       ".highlight .c1 { color: #3D7B7B; font-style: italic } /* Comment.Single */\n",
       ".highlight .cs { color: #3D7B7B; font-style: italic } /* Comment.Special */\n",
       ".highlight .gd { color: #A00000 } /* Generic.Deleted */\n",
       ".highlight .ge { font-style: italic } /* Generic.Emph */\n",
       ".highlight .gr { color: #E40000 } /* Generic.Error */\n",
       ".highlight .gh { color: #000080; font-weight: bold } /* Generic.Heading */\n",
       ".highlight .gi { color: #008400 } /* Generic.Inserted */\n",
       ".highlight .go { color: #717171 } /* Generic.Output */\n",
       ".highlight .gp { color: #000080; font-weight: bold } /* Generic.Prompt */\n",
       ".highlight .gs { font-weight: bold } /* Generic.Strong */\n",
       ".highlight .gu { color: #800080; font-weight: bold } /* Generic.Subheading */\n",
       ".highlight .gt { color: #0044DD } /* Generic.Traceback */\n",
       ".highlight .kc { color: #008000; font-weight: bold } /* Keyword.Constant */\n",
       ".highlight .kd { color: #008000; font-weight: bold } /* Keyword.Declaration */\n",
       ".highlight .kn { color: #008000; font-weight: bold } /* Keyword.Namespace */\n",
       ".highlight .kp { color: #008000 } /* Keyword.Pseudo */\n",
       ".highlight .kr { color: #008000; font-weight: bold } /* Keyword.Reserved */\n",
       ".highlight .kt { color: #B00040 } /* Keyword.Type */\n",
       ".highlight .m { color: #666666 } /* Literal.Number */\n",
       ".highlight .s { color: #BA2121 } /* Literal.String */\n",
       ".highlight .na { color: #687822 } /* Name.Attribute */\n",
       ".highlight .nb { color: #008000 } /* Name.Builtin */\n",
       ".highlight .nc { color: #0000FF; font-weight: bold } /* Name.Class */\n",
       ".highlight .no { color: #880000 } /* Name.Constant */\n",
       ".highlight .nd { color: #AA22FF } /* Name.Decorator */\n",
       ".highlight .ni { color: #717171; font-weight: bold } /* Name.Entity */\n",
       ".highlight .ne { color: #CB3F38; font-weight: bold } /* Name.Exception */\n",
       ".highlight .nf { color: #0000FF } /* Name.Function */\n",
       ".highlight .nl { color: #767600 } /* Name.Label */\n",
       ".highlight .nn { color: #0000FF; font-weight: bold } /* Name.Namespace */\n",
       ".highlight .nt { color: #008000; font-weight: bold } /* Name.Tag */\n",
       ".highlight .nv { color: #19177C } /* Name.Variable */\n",
       ".highlight .ow { color: #AA22FF; font-weight: bold } /* Operator.Word */\n",
       ".highlight .w { color: #bbbbbb } /* Text.Whitespace */\n",
       ".highlight .mb { color: #666666 } /* Literal.Number.Bin */\n",
       ".highlight .mf { color: #666666 } /* Literal.Number.Float */\n",
       ".highlight .mh { color: #666666 } /* Literal.Number.Hex */\n",
       ".highlight .mi { color: #666666 } /* Literal.Number.Integer */\n",
       ".highlight .mo { color: #666666 } /* Literal.Number.Oct */\n",
       ".highlight .sa { color: #BA2121 } /* Literal.String.Affix */\n",
       ".highlight .sb { color: #BA2121 } /* Literal.String.Backtick */\n",
       ".highlight .sc { color: #BA2121 } /* Literal.String.Char */\n",
       ".highlight .dl { color: #BA2121 } /* Literal.String.Delimiter */\n",
       ".highlight .sd { color: #BA2121; font-style: italic } /* Literal.String.Doc */\n",
       ".highlight .s2 { color: #BA2121 } /* Literal.String.Double */\n",
       ".highlight .se { color: #AA5D1F; font-weight: bold } /* Literal.String.Escape */\n",
       ".highlight .sh { color: #BA2121 } /* Literal.String.Heredoc */\n",
       ".highlight .si { color: #A45A77; font-weight: bold } /* Literal.String.Interpol */\n",
       ".highlight .sx { color: #008000 } /* Literal.String.Other */\n",
       ".highlight .sr { color: #A45A77 } /* Literal.String.Regex */\n",
       ".highlight .s1 { color: #BA2121 } /* Literal.String.Single */\n",
       ".highlight .ss { color: #19177C } /* Literal.String.Symbol */\n",
       ".highlight .bp { color: #008000 } /* Name.Builtin.Pseudo */\n",
       ".highlight .fm { color: #0000FF } /* Name.Function.Magic */\n",
       ".highlight .vc { color: #19177C } /* Name.Variable.Class */\n",
       ".highlight .vg { color: #19177C } /* Name.Variable.Global */\n",
       ".highlight .vi { color: #19177C } /* Name.Variable.Instance */\n",
       ".highlight .vm { color: #19177C } /* Name.Variable.Magic */\n",
       ".highlight .il { color: #666666 } /* Literal.Number.Integer.Long */</style>"
      ],
      "text/plain": [
       "<IPython.core.display.HTML object>"
      ]
     },
     "metadata": {},
     "output_type": "display_data"
    },
    {
     "data": {
      "text/html": [
       "<style>pre { line-height: 125%; }\n",
       "td.linenos .normal { color: inherit; background-color: transparent; padding-left: 5px; padding-right: 5px; }\n",
       "span.linenos { color: inherit; background-color: transparent; padding-left: 5px; padding-right: 5px; }\n",
       "td.linenos .special { color: #000000; background-color: #ffffc0; padding-left: 5px; padding-right: 5px; }\n",
       "span.linenos.special { color: #000000; background-color: #ffffc0; padding-left: 5px; padding-right: 5px; }\n",
       ".output_html .hll { background-color: #ffffcc }\n",
       ".output_html { background: #f8f8f8; }\n",
       ".output_html .c { color: #3D7B7B; font-style: italic } /* Comment */\n",
       ".output_html .err { border: 1px solid #FF0000 } /* Error */\n",
       ".output_html .k { color: #008000; font-weight: bold } /* Keyword */\n",
       ".output_html .o { color: #666666 } /* Operator */\n",
       ".output_html .ch { color: #3D7B7B; font-style: italic } /* Comment.Hashbang */\n",
       ".output_html .cm { color: #3D7B7B; font-style: italic } /* Comment.Multiline */\n",
       ".output_html .cp { color: #9C6500 } /* Comment.Preproc */\n",
       ".output_html .cpf { color: #3D7B7B; font-style: italic } /* Comment.PreprocFile */\n",
       ".output_html .c1 { color: #3D7B7B; font-style: italic } /* Comment.Single */\n",
       ".output_html .cs { color: #3D7B7B; font-style: italic } /* Comment.Special */\n",
       ".output_html .gd { color: #A00000 } /* Generic.Deleted */\n",
       ".output_html .ge { font-style: italic } /* Generic.Emph */\n",
       ".output_html .gr { color: #E40000 } /* Generic.Error */\n",
       ".output_html .gh { color: #000080; font-weight: bold } /* Generic.Heading */\n",
       ".output_html .gi { color: #008400 } /* Generic.Inserted */\n",
       ".output_html .go { color: #717171 } /* Generic.Output */\n",
       ".output_html .gp { color: #000080; font-weight: bold } /* Generic.Prompt */\n",
       ".output_html .gs { font-weight: bold } /* Generic.Strong */\n",
       ".output_html .gu { color: #800080; font-weight: bold } /* Generic.Subheading */\n",
       ".output_html .gt { color: #0044DD } /* Generic.Traceback */\n",
       ".output_html .kc { color: #008000; font-weight: bold } /* Keyword.Constant */\n",
       ".output_html .kd { color: #008000; font-weight: bold } /* Keyword.Declaration */\n",
       ".output_html .kn { color: #008000; font-weight: bold } /* Keyword.Namespace */\n",
       ".output_html .kp { color: #008000 } /* Keyword.Pseudo */\n",
       ".output_html .kr { color: #008000; font-weight: bold } /* Keyword.Reserved */\n",
       ".output_html .kt { color: #B00040 } /* Keyword.Type */\n",
       ".output_html .m { color: #666666 } /* Literal.Number */\n",
       ".output_html .s { color: #BA2121 } /* Literal.String */\n",
       ".output_html .na { color: #687822 } /* Name.Attribute */\n",
       ".output_html .nb { color: #008000 } /* Name.Builtin */\n",
       ".output_html .nc { color: #0000FF; font-weight: bold } /* Name.Class */\n",
       ".output_html .no { color: #880000 } /* Name.Constant */\n",
       ".output_html .nd { color: #AA22FF } /* Name.Decorator */\n",
       ".output_html .ni { color: #717171; font-weight: bold } /* Name.Entity */\n",
       ".output_html .ne { color: #CB3F38; font-weight: bold } /* Name.Exception */\n",
       ".output_html .nf { color: #0000FF } /* Name.Function */\n",
       ".output_html .nl { color: #767600 } /* Name.Label */\n",
       ".output_html .nn { color: #0000FF; font-weight: bold } /* Name.Namespace */\n",
       ".output_html .nt { color: #008000; font-weight: bold } /* Name.Tag */\n",
       ".output_html .nv { color: #19177C } /* Name.Variable */\n",
       ".output_html .ow { color: #AA22FF; font-weight: bold } /* Operator.Word */\n",
       ".output_html .w { color: #bbbbbb } /* Text.Whitespace */\n",
       ".output_html .mb { color: #666666 } /* Literal.Number.Bin */\n",
       ".output_html .mf { color: #666666 } /* Literal.Number.Float */\n",
       ".output_html .mh { color: #666666 } /* Literal.Number.Hex */\n",
       ".output_html .mi { color: #666666 } /* Literal.Number.Integer */\n",
       ".output_html .mo { color: #666666 } /* Literal.Number.Oct */\n",
       ".output_html .sa { color: #BA2121 } /* Literal.String.Affix */\n",
       ".output_html .sb { color: #BA2121 } /* Literal.String.Backtick */\n",
       ".output_html .sc { color: #BA2121 } /* Literal.String.Char */\n",
       ".output_html .dl { color: #BA2121 } /* Literal.String.Delimiter */\n",
       ".output_html .sd { color: #BA2121; font-style: italic } /* Literal.String.Doc */\n",
       ".output_html .s2 { color: #BA2121 } /* Literal.String.Double */\n",
       ".output_html .se { color: #AA5D1F; font-weight: bold } /* Literal.String.Escape */\n",
       ".output_html .sh { color: #BA2121 } /* Literal.String.Heredoc */\n",
       ".output_html .si { color: #A45A77; font-weight: bold } /* Literal.String.Interpol */\n",
       ".output_html .sx { color: #008000 } /* Literal.String.Other */\n",
       ".output_html .sr { color: #A45A77 } /* Literal.String.Regex */\n",
       ".output_html .s1 { color: #BA2121 } /* Literal.String.Single */\n",
       ".output_html .ss { color: #19177C } /* Literal.String.Symbol */\n",
       ".output_html .bp { color: #008000 } /* Name.Builtin.Pseudo */\n",
       ".output_html .fm { color: #0000FF } /* Name.Function.Magic */\n",
       ".output_html .vc { color: #19177C } /* Name.Variable.Class */\n",
       ".output_html .vg { color: #19177C } /* Name.Variable.Global */\n",
       ".output_html .vi { color: #19177C } /* Name.Variable.Instance */\n",
       ".output_html .vm { color: #19177C } /* Name.Variable.Magic */\n",
       ".output_html .il { color: #666666 } /* Literal.Number.Integer.Long */</style><div class=\"highlight\"><pre><span></span><span class=\"sd\">&quot;&quot;&quot;</span>\n",
       "<span class=\"sd\">The default experiment with default model, Initial State, System Parameters, and Simulation Configuration.</span>\n",
       "\n",
       "<span class=\"sd\">The defaults are defined in their respective modules:</span>\n",
       "<span class=\"sd\">* Initial State in `model/state_variables.py`</span>\n",
       "<span class=\"sd\">* System Parameters in `model/system_parameters.py`</span>\n",
       "<span class=\"sd\">* Simulation Configuration in `experiments/simulation_configuration.py`</span>\n",
       "<span class=\"sd\">&quot;&quot;&quot;</span>\n",
       "\n",
       "<span class=\"kn\">import</span> <span class=\"nn\">re</span>\n",
       "\n",
       "<span class=\"kn\">from</span> <span class=\"nn\">typing</span> <span class=\"kn\">import</span> <span class=\"n\">List</span><span class=\"p\">,</span> <span class=\"n\">Type</span><span class=\"p\">,</span> <span class=\"n\">Dict</span><span class=\"p\">,</span> <span class=\"n\">Any</span>\n",
       "<span class=\"kn\">from</span> <span class=\"nn\">radcad</span> <span class=\"kn\">import</span> <span class=\"n\">Simulation</span><span class=\"p\">,</span> <span class=\"n\">Experiment</span><span class=\"p\">,</span> <span class=\"n\">Backend</span>\n",
       "\n",
       "<span class=\"kn\">from</span> <span class=\"nn\">model</span> <span class=\"kn\">import</span> <span class=\"n\">model</span>\n",
       "<span class=\"kn\">from</span> <span class=\"nn\">experiments.simulation_configuration</span> <span class=\"kn\">import</span> <span class=\"n\">TIMESTEPS</span><span class=\"p\">,</span> <span class=\"n\">MONTE_CARLO_RUNS</span>\n",
       "<span class=\"kn\">from</span> <span class=\"nn\">model.generators.factroy</span> <span class=\"kn\">import</span> <span class=\"n\">GeneratorFactory</span>\n",
       "<span class=\"kn\">from</span> <span class=\"nn\">model.generators.markets</span> <span class=\"kn\">import</span> <span class=\"n\">MarketPriceGenerator</span>\n",
       "\n",
       "<span class=\"n\">generator_factory</span> <span class=\"o\">=</span> <span class=\"n\">GeneratorFactory</span><span class=\"p\">(</span><span class=\"n\">components</span><span class=\"o\">=</span><span class=\"p\">[</span><span class=\"n\">MarketPriceGenerator</span><span class=\"p\">])</span>\n",
       "\n",
       "<span class=\"c1\"># Create Model Simulation</span>\n",
       "<span class=\"n\">simulation</span> <span class=\"o\">=</span> <span class=\"n\">Simulation</span><span class=\"p\">(</span>\n",
       "    <span class=\"n\">model</span><span class=\"o\">=</span><span class=\"n\">model</span><span class=\"p\">,</span>\n",
       "    <span class=\"n\">timesteps</span><span class=\"o\">=</span><span class=\"n\">TIMESTEPS</span><span class=\"p\">,</span>\n",
       "    <span class=\"n\">runs</span><span class=\"o\">=</span><span class=\"n\">MONTE_CARLO_RUNS</span><span class=\"p\">,</span>\n",
       "<span class=\"p\">)</span>\n",
       "<span class=\"n\">simulation</span><span class=\"o\">.</span><span class=\"n\">before_subset</span> <span class=\"o\">=</span> <span class=\"n\">generator_factory</span><span class=\"o\">.</span><span class=\"n\">before_subset</span>\n",
       "\n",
       "<span class=\"c1\"># Create Experiment of single Simulation</span>\n",
       "<span class=\"n\">experiment</span> <span class=\"o\">=</span> <span class=\"n\">Experiment</span><span class=\"p\">([</span><span class=\"n\">simulation</span><span class=\"p\">])</span>\n",
       "\n",
       "<span class=\"c1\"># Configure Simulation &amp; Experiment engine</span>\n",
       "<span class=\"n\">simulation</span><span class=\"o\">.</span><span class=\"n\">engine</span> <span class=\"o\">=</span> <span class=\"n\">experiment</span><span class=\"o\">.</span><span class=\"n\">engine</span>\n",
       "<span class=\"n\">experiment</span><span class=\"o\">.</span><span class=\"n\">engine</span><span class=\"o\">.</span><span class=\"n\">backend</span> <span class=\"o\">=</span> <span class=\"n\">Backend</span><span class=\"o\">.</span><span class=\"n\">SINGLE_PROCESS</span>\n",
       "<span class=\"n\">experiment</span><span class=\"o\">.</span><span class=\"n\">engine</span><span class=\"o\">.</span><span class=\"n\">deepcopy</span> <span class=\"o\">=</span> <span class=\"kc\">False</span>\n",
       "<span class=\"n\">experiment</span><span class=\"o\">.</span><span class=\"n\">engine</span><span class=\"o\">.</span><span class=\"n\">drop_substeps</span> <span class=\"o\">=</span> <span class=\"kc\">True</span>  <span class=\"c1\"># Do not store data for substeps</span>\n",
       "</pre></div>\n"
      ],
      "text/latex": [
       "\\begin{Verbatim}[commandchars=\\\\\\{\\}]\n",
       "\\PY{l+s+sd}{\\PYZdq{}\\PYZdq{}\\PYZdq{}}\n",
       "\\PY{l+s+sd}{The default experiment with default model, Initial State, System Parameters, and Simulation Configuration.}\n",
       "\n",
       "\\PY{l+s+sd}{The defaults are defined in their respective modules:}\n",
       "\\PY{l+s+sd}{* Initial State in `model/state\\PYZus{}variables.py`}\n",
       "\\PY{l+s+sd}{* System Parameters in `model/system\\PYZus{}parameters.py`}\n",
       "\\PY{l+s+sd}{* Simulation Configuration in `experiments/simulation\\PYZus{}configuration.py`}\n",
       "\\PY{l+s+sd}{\\PYZdq{}\\PYZdq{}\\PYZdq{}}\n",
       "\n",
       "\\PY{k+kn}{import} \\PY{n+nn}{re}\n",
       "\n",
       "\\PY{k+kn}{from} \\PY{n+nn}{typing} \\PY{k+kn}{import} \\PY{n}{List}\\PY{p}{,} \\PY{n}{Type}\\PY{p}{,} \\PY{n}{Dict}\\PY{p}{,} \\PY{n}{Any}\n",
       "\\PY{k+kn}{from} \\PY{n+nn}{radcad} \\PY{k+kn}{import} \\PY{n}{Simulation}\\PY{p}{,} \\PY{n}{Experiment}\\PY{p}{,} \\PY{n}{Backend}\n",
       "\n",
       "\\PY{k+kn}{from} \\PY{n+nn}{model} \\PY{k+kn}{import} \\PY{n}{model}\n",
       "\\PY{k+kn}{from} \\PY{n+nn}{experiments}\\PY{n+nn}{.}\\PY{n+nn}{simulation\\PYZus{}configuration} \\PY{k+kn}{import} \\PY{n}{TIMESTEPS}\\PY{p}{,} \\PY{n}{MONTE\\PYZus{}CARLO\\PYZus{}RUNS}\n",
       "\\PY{k+kn}{from} \\PY{n+nn}{model}\\PY{n+nn}{.}\\PY{n+nn}{generators}\\PY{n+nn}{.}\\PY{n+nn}{factroy} \\PY{k+kn}{import} \\PY{n}{GeneratorFactory}\n",
       "\\PY{k+kn}{from} \\PY{n+nn}{model}\\PY{n+nn}{.}\\PY{n+nn}{generators}\\PY{n+nn}{.}\\PY{n+nn}{markets} \\PY{k+kn}{import} \\PY{n}{MarketPriceGenerator}\n",
       "\n",
       "\\PY{n}{generator\\PYZus{}factory} \\PY{o}{=} \\PY{n}{GeneratorFactory}\\PY{p}{(}\\PY{n}{components}\\PY{o}{=}\\PY{p}{[}\\PY{n}{MarketPriceGenerator}\\PY{p}{]}\\PY{p}{)}\n",
       "\n",
       "\\PY{c+c1}{\\PYZsh{} Create Model Simulation}\n",
       "\\PY{n}{simulation} \\PY{o}{=} \\PY{n}{Simulation}\\PY{p}{(}\n",
       "    \\PY{n}{model}\\PY{o}{=}\\PY{n}{model}\\PY{p}{,}\n",
       "    \\PY{n}{timesteps}\\PY{o}{=}\\PY{n}{TIMESTEPS}\\PY{p}{,}\n",
       "    \\PY{n}{runs}\\PY{o}{=}\\PY{n}{MONTE\\PYZus{}CARLO\\PYZus{}RUNS}\\PY{p}{,}\n",
       "\\PY{p}{)}\n",
       "\\PY{n}{simulation}\\PY{o}{.}\\PY{n}{before\\PYZus{}subset} \\PY{o}{=} \\PY{n}{generator\\PYZus{}factory}\\PY{o}{.}\\PY{n}{before\\PYZus{}subset}\n",
       "\n",
       "\\PY{c+c1}{\\PYZsh{} Create Experiment of single Simulation}\n",
       "\\PY{n}{experiment} \\PY{o}{=} \\PY{n}{Experiment}\\PY{p}{(}\\PY{p}{[}\\PY{n}{simulation}\\PY{p}{]}\\PY{p}{)}\n",
       "\n",
       "\\PY{c+c1}{\\PYZsh{} Configure Simulation \\PYZam{} Experiment engine}\n",
       "\\PY{n}{simulation}\\PY{o}{.}\\PY{n}{engine} \\PY{o}{=} \\PY{n}{experiment}\\PY{o}{.}\\PY{n}{engine}\n",
       "\\PY{n}{experiment}\\PY{o}{.}\\PY{n}{engine}\\PY{o}{.}\\PY{n}{backend} \\PY{o}{=} \\PY{n}{Backend}\\PY{o}{.}\\PY{n}{SINGLE\\PYZus{}PROCESS}\n",
       "\\PY{n}{experiment}\\PY{o}{.}\\PY{n}{engine}\\PY{o}{.}\\PY{n}{deepcopy} \\PY{o}{=} \\PY{k+kc}{False}\n",
       "\\PY{n}{experiment}\\PY{o}{.}\\PY{n}{engine}\\PY{o}{.}\\PY{n}{drop\\PYZus{}substeps} \\PY{o}{=} \\PY{k+kc}{True}  \\PY{c+c1}{\\PYZsh{} Do not store data for substeps}\n",
       "\\end{Verbatim}\n"
      ],
      "text/plain": [
       "\"\"\"\n",
       "The default experiment with default model, Initial State, System Parameters, and Simulation Configuration.\n",
       "\n",
       "The defaults are defined in their respective modules:\n",
       "* Initial State in `model/state_variables.py`\n",
       "* System Parameters in `model/system_parameters.py`\n",
       "* Simulation Configuration in `experiments/simulation_configuration.py`\n",
       "\"\"\"\n",
       "\n",
       "import re\n",
       "\n",
       "from typing import List, Type, Dict, Any\n",
       "from radcad import Simulation, Experiment, Backend\n",
       "\n",
       "from model import model\n",
       "from experiments.simulation_configuration import TIMESTEPS, MONTE_CARLO_RUNS\n",
       "from model.generators.factroy import GeneratorFactory\n",
       "from model.generators.markets import MarketPriceGenerator\n",
       "\n",
       "generator_factory = GeneratorFactory(components=[MarketPriceGenerator])\n",
       "\n",
       "# Create Model Simulation\n",
       "simulation = Simulation(\n",
       "    model=model,\n",
       "    timesteps=TIMESTEPS,\n",
       "    runs=MONTE_CARLO_RUNS,\n",
       ")\n",
       "simulation.before_subset = generator_factory.before_subset\n",
       "\n",
       "# Create Experiment of single Simulation\n",
       "experiment = Experiment([simulation])\n",
       "\n",
       "# Configure Simulation & Experiment engine\n",
       "simulation.engine = experiment.engine\n",
       "experiment.engine.backend = Backend.SINGLE_PROCESS\n",
       "experiment.engine.deepcopy = False\n",
       "experiment.engine.drop_substeps = True  # Do not store data for substeps"
      ]
     },
     "execution_count": 4,
     "metadata": {},
     "output_type": "execute_result"
    },
    {
     "name": "stdout",
     "output_type": "stream",
     "text": [
      "time: 84.9 ms (started: 2022-02-02 15:44:58 +01:00)\n"
     ]
    }
   ],
   "source": [
    "display_code(default_experiment)  # In this example equivalent to display_code(simulation_analysis_1.)"
   ]
  },
  {
   "cell_type": "markdown",
   "id": "b8cc5a65",
   "metadata": {},
   "source": [
    "Alternatively to modifying the default experiment in a notebook as shown in the next section, we can also load predefined experiment templates: "
   ]
  },
  {
   "cell_type": "code",
   "execution_count": 5,
   "id": "78eccd4c",
   "metadata": {},
   "outputs": [
    {
     "data": {
      "text/html": [
       "<style>pre { line-height: 125%; }\n",
       "td.linenos .normal { color: inherit; background-color: transparent; padding-left: 5px; padding-right: 5px; }\n",
       "span.linenos { color: inherit; background-color: transparent; padding-left: 5px; padding-right: 5px; }\n",
       "td.linenos .special { color: #000000; background-color: #ffffc0; padding-left: 5px; padding-right: 5px; }\n",
       "span.linenos.special { color: #000000; background-color: #ffffc0; padding-left: 5px; padding-right: 5px; }\n",
       ".highlight .hll { background-color: #ffffcc }\n",
       ".highlight { background: #f8f8f8; }\n",
       ".highlight .c { color: #3D7B7B; font-style: italic } /* Comment */\n",
       ".highlight .err { border: 1px solid #FF0000 } /* Error */\n",
       ".highlight .k { color: #008000; font-weight: bold } /* Keyword */\n",
       ".highlight .o { color: #666666 } /* Operator */\n",
       ".highlight .ch { color: #3D7B7B; font-style: italic } /* Comment.Hashbang */\n",
       ".highlight .cm { color: #3D7B7B; font-style: italic } /* Comment.Multiline */\n",
       ".highlight .cp { color: #9C6500 } /* Comment.Preproc */\n",
       ".highlight .cpf { color: #3D7B7B; font-style: italic } /* Comment.PreprocFile */\n",
       ".highlight .c1 { color: #3D7B7B; font-style: italic } /* Comment.Single */\n",
       ".highlight .cs { color: #3D7B7B; font-style: italic } /* Comment.Special */\n",
       ".highlight .gd { color: #A00000 } /* Generic.Deleted */\n",
       ".highlight .ge { font-style: italic } /* Generic.Emph */\n",
       ".highlight .gr { color: #E40000 } /* Generic.Error */\n",
       ".highlight .gh { color: #000080; font-weight: bold } /* Generic.Heading */\n",
       ".highlight .gi { color: #008400 } /* Generic.Inserted */\n",
       ".highlight .go { color: #717171 } /* Generic.Output */\n",
       ".highlight .gp { color: #000080; font-weight: bold } /* Generic.Prompt */\n",
       ".highlight .gs { font-weight: bold } /* Generic.Strong */\n",
       ".highlight .gu { color: #800080; font-weight: bold } /* Generic.Subheading */\n",
       ".highlight .gt { color: #0044DD } /* Generic.Traceback */\n",
       ".highlight .kc { color: #008000; font-weight: bold } /* Keyword.Constant */\n",
       ".highlight .kd { color: #008000; font-weight: bold } /* Keyword.Declaration */\n",
       ".highlight .kn { color: #008000; font-weight: bold } /* Keyword.Namespace */\n",
       ".highlight .kp { color: #008000 } /* Keyword.Pseudo */\n",
       ".highlight .kr { color: #008000; font-weight: bold } /* Keyword.Reserved */\n",
       ".highlight .kt { color: #B00040 } /* Keyword.Type */\n",
       ".highlight .m { color: #666666 } /* Literal.Number */\n",
       ".highlight .s { color: #BA2121 } /* Literal.String */\n",
       ".highlight .na { color: #687822 } /* Name.Attribute */\n",
       ".highlight .nb { color: #008000 } /* Name.Builtin */\n",
       ".highlight .nc { color: #0000FF; font-weight: bold } /* Name.Class */\n",
       ".highlight .no { color: #880000 } /* Name.Constant */\n",
       ".highlight .nd { color: #AA22FF } /* Name.Decorator */\n",
       ".highlight .ni { color: #717171; font-weight: bold } /* Name.Entity */\n",
       ".highlight .ne { color: #CB3F38; font-weight: bold } /* Name.Exception */\n",
       ".highlight .nf { color: #0000FF } /* Name.Function */\n",
       ".highlight .nl { color: #767600 } /* Name.Label */\n",
       ".highlight .nn { color: #0000FF; font-weight: bold } /* Name.Namespace */\n",
       ".highlight .nt { color: #008000; font-weight: bold } /* Name.Tag */\n",
       ".highlight .nv { color: #19177C } /* Name.Variable */\n",
       ".highlight .ow { color: #AA22FF; font-weight: bold } /* Operator.Word */\n",
       ".highlight .w { color: #bbbbbb } /* Text.Whitespace */\n",
       ".highlight .mb { color: #666666 } /* Literal.Number.Bin */\n",
       ".highlight .mf { color: #666666 } /* Literal.Number.Float */\n",
       ".highlight .mh { color: #666666 } /* Literal.Number.Hex */\n",
       ".highlight .mi { color: #666666 } /* Literal.Number.Integer */\n",
       ".highlight .mo { color: #666666 } /* Literal.Number.Oct */\n",
       ".highlight .sa { color: #BA2121 } /* Literal.String.Affix */\n",
       ".highlight .sb { color: #BA2121 } /* Literal.String.Backtick */\n",
       ".highlight .sc { color: #BA2121 } /* Literal.String.Char */\n",
       ".highlight .dl { color: #BA2121 } /* Literal.String.Delimiter */\n",
       ".highlight .sd { color: #BA2121; font-style: italic } /* Literal.String.Doc */\n",
       ".highlight .s2 { color: #BA2121 } /* Literal.String.Double */\n",
       ".highlight .se { color: #AA5D1F; font-weight: bold } /* Literal.String.Escape */\n",
       ".highlight .sh { color: #BA2121 } /* Literal.String.Heredoc */\n",
       ".highlight .si { color: #A45A77; font-weight: bold } /* Literal.String.Interpol */\n",
       ".highlight .sx { color: #008000 } /* Literal.String.Other */\n",
       ".highlight .sr { color: #A45A77 } /* Literal.String.Regex */\n",
       ".highlight .s1 { color: #BA2121 } /* Literal.String.Single */\n",
       ".highlight .ss { color: #19177C } /* Literal.String.Symbol */\n",
       ".highlight .bp { color: #008000 } /* Name.Builtin.Pseudo */\n",
       ".highlight .fm { color: #0000FF } /* Name.Function.Magic */\n",
       ".highlight .vc { color: #19177C } /* Name.Variable.Class */\n",
       ".highlight .vg { color: #19177C } /* Name.Variable.Global */\n",
       ".highlight .vi { color: #19177C } /* Name.Variable.Instance */\n",
       ".highlight .vm { color: #19177C } /* Name.Variable.Magic */\n",
       ".highlight .il { color: #666666 } /* Literal.Number.Integer.Long */</style>"
      ],
      "text/plain": [
       "<IPython.core.display.HTML object>"
      ]
     },
     "metadata": {},
     "output_type": "display_data"
    },
    {
     "data": {
      "text/html": [
       "<style>pre { line-height: 125%; }\n",
       "td.linenos .normal { color: inherit; background-color: transparent; padding-left: 5px; padding-right: 5px; }\n",
       "span.linenos { color: inherit; background-color: transparent; padding-left: 5px; padding-right: 5px; }\n",
       "td.linenos .special { color: #000000; background-color: #ffffc0; padding-left: 5px; padding-right: 5px; }\n",
       "span.linenos.special { color: #000000; background-color: #ffffc0; padding-left: 5px; padding-right: 5px; }\n",
       ".output_html .hll { background-color: #ffffcc }\n",
       ".output_html { background: #f8f8f8; }\n",
       ".output_html .c { color: #3D7B7B; font-style: italic } /* Comment */\n",
       ".output_html .err { border: 1px solid #FF0000 } /* Error */\n",
       ".output_html .k { color: #008000; font-weight: bold } /* Keyword */\n",
       ".output_html .o { color: #666666 } /* Operator */\n",
       ".output_html .ch { color: #3D7B7B; font-style: italic } /* Comment.Hashbang */\n",
       ".output_html .cm { color: #3D7B7B; font-style: italic } /* Comment.Multiline */\n",
       ".output_html .cp { color: #9C6500 } /* Comment.Preproc */\n",
       ".output_html .cpf { color: #3D7B7B; font-style: italic } /* Comment.PreprocFile */\n",
       ".output_html .c1 { color: #3D7B7B; font-style: italic } /* Comment.Single */\n",
       ".output_html .cs { color: #3D7B7B; font-style: italic } /* Comment.Special */\n",
       ".output_html .gd { color: #A00000 } /* Generic.Deleted */\n",
       ".output_html .ge { font-style: italic } /* Generic.Emph */\n",
       ".output_html .gr { color: #E40000 } /* Generic.Error */\n",
       ".output_html .gh { color: #000080; font-weight: bold } /* Generic.Heading */\n",
       ".output_html .gi { color: #008400 } /* Generic.Inserted */\n",
       ".output_html .go { color: #717171 } /* Generic.Output */\n",
       ".output_html .gp { color: #000080; font-weight: bold } /* Generic.Prompt */\n",
       ".output_html .gs { font-weight: bold } /* Generic.Strong */\n",
       ".output_html .gu { color: #800080; font-weight: bold } /* Generic.Subheading */\n",
       ".output_html .gt { color: #0044DD } /* Generic.Traceback */\n",
       ".output_html .kc { color: #008000; font-weight: bold } /* Keyword.Constant */\n",
       ".output_html .kd { color: #008000; font-weight: bold } /* Keyword.Declaration */\n",
       ".output_html .kn { color: #008000; font-weight: bold } /* Keyword.Namespace */\n",
       ".output_html .kp { color: #008000 } /* Keyword.Pseudo */\n",
       ".output_html .kr { color: #008000; font-weight: bold } /* Keyword.Reserved */\n",
       ".output_html .kt { color: #B00040 } /* Keyword.Type */\n",
       ".output_html .m { color: #666666 } /* Literal.Number */\n",
       ".output_html .s { color: #BA2121 } /* Literal.String */\n",
       ".output_html .na { color: #687822 } /* Name.Attribute */\n",
       ".output_html .nb { color: #008000 } /* Name.Builtin */\n",
       ".output_html .nc { color: #0000FF; font-weight: bold } /* Name.Class */\n",
       ".output_html .no { color: #880000 } /* Name.Constant */\n",
       ".output_html .nd { color: #AA22FF } /* Name.Decorator */\n",
       ".output_html .ni { color: #717171; font-weight: bold } /* Name.Entity */\n",
       ".output_html .ne { color: #CB3F38; font-weight: bold } /* Name.Exception */\n",
       ".output_html .nf { color: #0000FF } /* Name.Function */\n",
       ".output_html .nl { color: #767600 } /* Name.Label */\n",
       ".output_html .nn { color: #0000FF; font-weight: bold } /* Name.Namespace */\n",
       ".output_html .nt { color: #008000; font-weight: bold } /* Name.Tag */\n",
       ".output_html .nv { color: #19177C } /* Name.Variable */\n",
       ".output_html .ow { color: #AA22FF; font-weight: bold } /* Operator.Word */\n",
       ".output_html .w { color: #bbbbbb } /* Text.Whitespace */\n",
       ".output_html .mb { color: #666666 } /* Literal.Number.Bin */\n",
       ".output_html .mf { color: #666666 } /* Literal.Number.Float */\n",
       ".output_html .mh { color: #666666 } /* Literal.Number.Hex */\n",
       ".output_html .mi { color: #666666 } /* Literal.Number.Integer */\n",
       ".output_html .mo { color: #666666 } /* Literal.Number.Oct */\n",
       ".output_html .sa { color: #BA2121 } /* Literal.String.Affix */\n",
       ".output_html .sb { color: #BA2121 } /* Literal.String.Backtick */\n",
       ".output_html .sc { color: #BA2121 } /* Literal.String.Char */\n",
       ".output_html .dl { color: #BA2121 } /* Literal.String.Delimiter */\n",
       ".output_html .sd { color: #BA2121; font-style: italic } /* Literal.String.Doc */\n",
       ".output_html .s2 { color: #BA2121 } /* Literal.String.Double */\n",
       ".output_html .se { color: #AA5D1F; font-weight: bold } /* Literal.String.Escape */\n",
       ".output_html .sh { color: #BA2121 } /* Literal.String.Heredoc */\n",
       ".output_html .si { color: #A45A77; font-weight: bold } /* Literal.String.Interpol */\n",
       ".output_html .sx { color: #008000 } /* Literal.String.Other */\n",
       ".output_html .sr { color: #A45A77 } /* Literal.String.Regex */\n",
       ".output_html .s1 { color: #BA2121 } /* Literal.String.Single */\n",
       ".output_html .ss { color: #19177C } /* Literal.String.Symbol */\n",
       ".output_html .bp { color: #008000 } /* Name.Builtin.Pseudo */\n",
       ".output_html .fm { color: #0000FF } /* Name.Function.Magic */\n",
       ".output_html .vc { color: #19177C } /* Name.Variable.Class */\n",
       ".output_html .vg { color: #19177C } /* Name.Variable.Global */\n",
       ".output_html .vi { color: #19177C } /* Name.Variable.Instance */\n",
       ".output_html .vm { color: #19177C } /* Name.Variable.Magic */\n",
       ".output_html .il { color: #666666 } /* Literal.Number.Integer.Long */</style><div class=\"highlight\"><pre><span></span><span class=\"sd\">&quot;&quot;&quot;</span>\n",
       "<span class=\"sd\"># Monte Carlo Analysis</span>\n",
       "\n",
       "<span class=\"sd\">Creates stochastic processes for CELO price, validator adoption, and validator uptime processes,</span>\n",
       "<span class=\"sd\">sampled by run (for new seed) and timestep (for new sample),</span>\n",
       "<span class=\"sd\">and runs a Monte Carlo analysis of 5 runs.</span>\n",
       "<span class=\"sd\">&quot;&quot;&quot;</span>\n",
       "\n",
       "<span class=\"kn\">import</span> <span class=\"nn\">copy</span>\n",
       "\n",
       "<span class=\"kn\">from</span> <span class=\"nn\">model.types</span> <span class=\"kn\">import</span> <span class=\"n\">Stage</span>\n",
       "<span class=\"kn\">import</span> <span class=\"nn\">model.constants</span> <span class=\"k\">as</span> <span class=\"nn\">constants</span>\n",
       "<span class=\"kn\">from</span> <span class=\"nn\">model.stochastic_processes</span> <span class=\"kn\">import</span> <span class=\"n\">create_stochastic_process_realizations</span>\n",
       "<span class=\"kn\">from</span> <span class=\"nn\">experiments.default_experiment</span> <span class=\"kn\">import</span> <span class=\"n\">experiment</span>\n",
       "\n",
       "<span class=\"c1\"># Make a copy of the default experiment to avoid mutation</span>\n",
       "<span class=\"n\">experiment</span> <span class=\"o\">=</span> <span class=\"n\">copy</span><span class=\"o\">.</span><span class=\"n\">deepcopy</span><span class=\"p\">(</span><span class=\"n\">experiment</span><span class=\"p\">)</span>\n",
       "\n",
       "<span class=\"c1\"># Change some simulation_configuration configuration settings</span>\n",
       "<span class=\"n\">DELTA_TIME</span> <span class=\"o\">=</span> <span class=\"mi\">1</span>  <span class=\"c1\"># blocks per timestep</span>\n",
       "<span class=\"n\">TIMESTEPS</span> <span class=\"o\">=</span> <span class=\"n\">constants</span><span class=\"o\">.</span><span class=\"n\">blocks_per_year</span> <span class=\"o\">*</span> <span class=\"mi\">3</span> <span class=\"o\">//</span> <span class=\"n\">DELTA_TIME</span>\n",
       "\n",
       "<span class=\"c1\"># Generate stochastic process realizations</span>\n",
       "<span class=\"n\">MONTE_CARLO_RUNS</span> <span class=\"o\">=</span> <span class=\"mi\">5</span>\n",
       "<span class=\"n\">cusd_demand_samples</span> <span class=\"o\">=</span> <span class=\"n\">create_stochastic_process_realizations</span><span class=\"p\">(</span>\n",
       "    <span class=\"s2\">&quot;cusd_demand_process&quot;</span><span class=\"p\">,</span> <span class=\"n\">timesteps</span><span class=\"o\">=</span><span class=\"n\">TIMESTEPS</span><span class=\"p\">,</span> <span class=\"n\">dt</span><span class=\"o\">=</span><span class=\"n\">DELTA_TIME</span><span class=\"p\">,</span> <span class=\"n\">runs</span><span class=\"o\">=</span><span class=\"n\">MONTE_CARLO_RUNS</span>\n",
       "<span class=\"p\">)</span>\n",
       "\n",
       "<span class=\"n\">parameter_overrides</span> <span class=\"o\">=</span> <span class=\"p\">{</span>\n",
       "    <span class=\"s2\">&quot;stage&quot;</span><span class=\"p\">:</span> <span class=\"p\">[</span><span class=\"n\">Stage</span><span class=\"o\">.</span><span class=\"n\">Mento1</span><span class=\"p\">],</span>\n",
       "    <span class=\"s2\">&quot;cusd_demand&quot;</span><span class=\"p\">:</span> <span class=\"p\">[</span><span class=\"k\">lambda</span> <span class=\"n\">run</span><span class=\"p\">,</span> <span class=\"n\">timestep</span><span class=\"p\">:</span> <span class=\"n\">cusd_demand_samples</span><span class=\"p\">[</span><span class=\"n\">run</span> <span class=\"o\">-</span> <span class=\"mi\">1</span><span class=\"p\">][</span><span class=\"n\">timestep</span><span class=\"p\">]],</span>\n",
       "<span class=\"p\">}</span>\n",
       "\n",
       "<span class=\"n\">experiment</span><span class=\"o\">.</span><span class=\"n\">simulations</span><span class=\"p\">[</span><span class=\"mi\">0</span><span class=\"p\">]</span><span class=\"o\">.</span><span class=\"n\">runs</span> <span class=\"o\">=</span> <span class=\"n\">MONTE_CARLO_RUNS</span>\n",
       "<span class=\"n\">experiment</span><span class=\"o\">.</span><span class=\"n\">simulations</span><span class=\"p\">[</span><span class=\"mi\">0</span><span class=\"p\">]</span><span class=\"o\">.</span><span class=\"n\">timesteps</span> <span class=\"o\">=</span> <span class=\"n\">TIMESTEPS</span>\n",
       "<span class=\"c1\"># Override default experiment System Parameters</span>\n",
       "<span class=\"n\">experiment</span><span class=\"o\">.</span><span class=\"n\">simulations</span><span class=\"p\">[</span><span class=\"mi\">0</span><span class=\"p\">]</span><span class=\"o\">.</span><span class=\"n\">model</span><span class=\"o\">.</span><span class=\"n\">params</span><span class=\"o\">.</span><span class=\"n\">update</span><span class=\"p\">(</span><span class=\"n\">parameter_overrides</span><span class=\"p\">)</span>\n",
       "</pre></div>\n"
      ],
      "text/latex": [
       "\\begin{Verbatim}[commandchars=\\\\\\{\\}]\n",
       "\\PY{l+s+sd}{\\PYZdq{}\\PYZdq{}\\PYZdq{}}\n",
       "\\PY{l+s+sd}{\\PYZsh{} Monte Carlo Analysis}\n",
       "\n",
       "\\PY{l+s+sd}{Creates stochastic processes for CELO price, validator adoption, and validator uptime processes,}\n",
       "\\PY{l+s+sd}{sampled by run (for new seed) and timestep (for new sample),}\n",
       "\\PY{l+s+sd}{and runs a Monte Carlo analysis of 5 runs.}\n",
       "\\PY{l+s+sd}{\\PYZdq{}\\PYZdq{}\\PYZdq{}}\n",
       "\n",
       "\\PY{k+kn}{import} \\PY{n+nn}{copy}\n",
       "\n",
       "\\PY{k+kn}{from} \\PY{n+nn}{model}\\PY{n+nn}{.}\\PY{n+nn}{types} \\PY{k+kn}{import} \\PY{n}{Stage}\n",
       "\\PY{k+kn}{import} \\PY{n+nn}{model}\\PY{n+nn}{.}\\PY{n+nn}{constants} \\PY{k}{as} \\PY{n+nn}{constants}\n",
       "\\PY{k+kn}{from} \\PY{n+nn}{model}\\PY{n+nn}{.}\\PY{n+nn}{stochastic\\PYZus{}processes} \\PY{k+kn}{import} \\PY{n}{create\\PYZus{}stochastic\\PYZus{}process\\PYZus{}realizations}\n",
       "\\PY{k+kn}{from} \\PY{n+nn}{experiments}\\PY{n+nn}{.}\\PY{n+nn}{default\\PYZus{}experiment} \\PY{k+kn}{import} \\PY{n}{experiment}\n",
       "\n",
       "\\PY{c+c1}{\\PYZsh{} Make a copy of the default experiment to avoid mutation}\n",
       "\\PY{n}{experiment} \\PY{o}{=} \\PY{n}{copy}\\PY{o}{.}\\PY{n}{deepcopy}\\PY{p}{(}\\PY{n}{experiment}\\PY{p}{)}\n",
       "\n",
       "\\PY{c+c1}{\\PYZsh{} Change some simulation\\PYZus{}configuration configuration settings}\n",
       "\\PY{n}{DELTA\\PYZus{}TIME} \\PY{o}{=} \\PY{l+m+mi}{1}  \\PY{c+c1}{\\PYZsh{} blocks per timestep}\n",
       "\\PY{n}{TIMESTEPS} \\PY{o}{=} \\PY{n}{constants}\\PY{o}{.}\\PY{n}{blocks\\PYZus{}per\\PYZus{}year} \\PY{o}{*} \\PY{l+m+mi}{3} \\PY{o}{/}\\PY{o}{/} \\PY{n}{DELTA\\PYZus{}TIME}\n",
       "\n",
       "\\PY{c+c1}{\\PYZsh{} Generate stochastic process realizations}\n",
       "\\PY{n}{MONTE\\PYZus{}CARLO\\PYZus{}RUNS} \\PY{o}{=} \\PY{l+m+mi}{5}\n",
       "\\PY{n}{cusd\\PYZus{}demand\\PYZus{}samples} \\PY{o}{=} \\PY{n}{create\\PYZus{}stochastic\\PYZus{}process\\PYZus{}realizations}\\PY{p}{(}\n",
       "    \\PY{l+s+s2}{\\PYZdq{}}\\PY{l+s+s2}{cusd\\PYZus{}demand\\PYZus{}process}\\PY{l+s+s2}{\\PYZdq{}}\\PY{p}{,} \\PY{n}{timesteps}\\PY{o}{=}\\PY{n}{TIMESTEPS}\\PY{p}{,} \\PY{n}{dt}\\PY{o}{=}\\PY{n}{DELTA\\PYZus{}TIME}\\PY{p}{,} \\PY{n}{runs}\\PY{o}{=}\\PY{n}{MONTE\\PYZus{}CARLO\\PYZus{}RUNS}\n",
       "\\PY{p}{)}\n",
       "\n",
       "\\PY{n}{parameter\\PYZus{}overrides} \\PY{o}{=} \\PY{p}{\\PYZob{}}\n",
       "    \\PY{l+s+s2}{\\PYZdq{}}\\PY{l+s+s2}{stage}\\PY{l+s+s2}{\\PYZdq{}}\\PY{p}{:} \\PY{p}{[}\\PY{n}{Stage}\\PY{o}{.}\\PY{n}{Mento1}\\PY{p}{]}\\PY{p}{,}\n",
       "    \\PY{l+s+s2}{\\PYZdq{}}\\PY{l+s+s2}{cusd\\PYZus{}demand}\\PY{l+s+s2}{\\PYZdq{}}\\PY{p}{:} \\PY{p}{[}\\PY{k}{lambda} \\PY{n}{run}\\PY{p}{,} \\PY{n}{timestep}\\PY{p}{:} \\PY{n}{cusd\\PYZus{}demand\\PYZus{}samples}\\PY{p}{[}\\PY{n}{run} \\PY{o}{\\PYZhy{}} \\PY{l+m+mi}{1}\\PY{p}{]}\\PY{p}{[}\\PY{n}{timestep}\\PY{p}{]}\\PY{p}{]}\\PY{p}{,}\n",
       "\\PY{p}{\\PYZcb{}}\n",
       "\n",
       "\\PY{n}{experiment}\\PY{o}{.}\\PY{n}{simulations}\\PY{p}{[}\\PY{l+m+mi}{0}\\PY{p}{]}\\PY{o}{.}\\PY{n}{runs} \\PY{o}{=} \\PY{n}{MONTE\\PYZus{}CARLO\\PYZus{}RUNS}\n",
       "\\PY{n}{experiment}\\PY{o}{.}\\PY{n}{simulations}\\PY{p}{[}\\PY{l+m+mi}{0}\\PY{p}{]}\\PY{o}{.}\\PY{n}{timesteps} \\PY{o}{=} \\PY{n}{TIMESTEPS}\n",
       "\\PY{c+c1}{\\PYZsh{} Override default experiment System Parameters}\n",
       "\\PY{n}{experiment}\\PY{o}{.}\\PY{n}{simulations}\\PY{p}{[}\\PY{l+m+mi}{0}\\PY{p}{]}\\PY{o}{.}\\PY{n}{model}\\PY{o}{.}\\PY{n}{params}\\PY{o}{.}\\PY{n}{update}\\PY{p}{(}\\PY{n}{parameter\\PYZus{}overrides}\\PY{p}{)}\n",
       "\\end{Verbatim}\n"
      ],
      "text/plain": [
       "\"\"\"\n",
       "# Monte Carlo Analysis\n",
       "\n",
       "Creates stochastic processes for CELO price, validator adoption, and validator uptime processes,\n",
       "sampled by run (for new seed) and timestep (for new sample),\n",
       "and runs a Monte Carlo analysis of 5 runs.\n",
       "\"\"\"\n",
       "\n",
       "import copy\n",
       "\n",
       "from model.types import Stage\n",
       "import model.constants as constants\n",
       "from model.stochastic_processes import create_stochastic_process_realizations\n",
       "from experiments.default_experiment import experiment\n",
       "\n",
       "# Make a copy of the default experiment to avoid mutation\n",
       "experiment = copy.deepcopy(experiment)\n",
       "\n",
       "# Change some simulation_configuration configuration settings\n",
       "DELTA_TIME = 1  # blocks per timestep\n",
       "TIMESTEPS = constants.blocks_per_year * 3 // DELTA_TIME\n",
       "\n",
       "# Generate stochastic process realizations\n",
       "MONTE_CARLO_RUNS = 5\n",
       "cusd_demand_samples = create_stochastic_process_realizations(\n",
       "    \"cusd_demand_process\", timesteps=TIMESTEPS, dt=DELTA_TIME, runs=MONTE_CARLO_RUNS\n",
       ")\n",
       "\n",
       "parameter_overrides = {\n",
       "    \"stage\": [Stage.Mento1],\n",
       "    \"cusd_demand\": [lambda run, timestep: cusd_demand_samples[run - 1][timestep]],\n",
       "}\n",
       "\n",
       "experiment.simulations[0].runs = MONTE_CARLO_RUNS\n",
       "experiment.simulations[0].timesteps = TIMESTEPS\n",
       "# Override default experiment System Parameters\n",
       "experiment.simulations[0].model.params.update(parameter_overrides)"
      ]
     },
     "execution_count": 5,
     "metadata": {},
     "output_type": "execute_result"
    },
    {
     "name": "stdout",
     "output_type": "stream",
     "text": [
      "time: 61.8 ms (started: 2022-02-02 15:44:58 +01:00)\n"
     ]
    }
   ],
   "source": [
    "import experiments.templates.monte_carlo_analysis as monte_carlo_analysis\n",
    "simulation_analysis_2 = copy.deepcopy(monte_carlo_analysis.experiment.simulations[0])\n",
    "display_code(monte_carlo_analysis)"
   ]
  },
  {
   "cell_type": "markdown",
   "id": "04bd7d53",
   "metadata": {},
   "source": [
    "## Modifying State Variables"
   ]
  },
  {
   "cell_type": "markdown",
   "id": "5807d1db",
   "metadata": {},
   "source": [
    "To view what the Initial State (radCAD model-configuration setting `initial_state`) of the State Variables are, and to what value they have been set, we can inspect the dictionary as follows:"
   ]
  },
  {
   "cell_type": "code",
   "execution_count": 6,
   "id": "466f9f7f",
   "metadata": {},
   "outputs": [
    {
     "name": "stdout",
     "output_type": "stream",
     "text": [
      "{'celo_price': 3.3843676128627402,\n",
      " 'cusd_price': 1.0,\n",
      " 'floating_supply': {'celo': 187391026.43773282, 'cusd': 59011440.89484415},\n",
      " 'market_price': {'cusd_usd': 1},\n",
      " 'mento_buckets': {'celo': 0.0, 'cusd': 0.0},\n",
      " 'mento_rate': 3.3843676128627402,\n",
      " 'reserve_account': {'account_id': 0, 'celo': 120000000.0, 'cusd': 0.0},\n",
      " 'timestamp': None,\n",
      " 'virtual_tanks': {'usd': 59011440.89484415}}\n",
      "time: 12.1 ms (started: 2022-02-02 15:44:58 +01:00)\n"
     ]
    }
   ],
   "source": [
    "pprint(simulation_analysis_1.model.initial_state)"
   ]
  },
  {
   "cell_type": "markdown",
   "id": "0f20397e",
   "metadata": {},
   "source": [
    "To modify the value of **State Variables** for a specific analysis, you need to select the relevant simulation and update the chosen model Initial State. For example, updating the `floating_supply` Initial State to `100e6` CELO and `123e5` cUSD."
   ]
  },
  {
   "cell_type": "code",
   "execution_count": 7,
   "id": "c6ac17d6",
   "metadata": {
    "scrolled": true
   },
   "outputs": [
    {
     "name": "stdout",
     "output_type": "stream",
     "text": [
      "time: 19 ms (started: 2022-02-02 15:44:58 +01:00)\n"
     ]
    }
   ],
   "source": [
    "simulation_analysis_1.model.initial_state.update({\n",
    "    'floating_supply': {\n",
    "        'celo': 100e6,\n",
    "        'cusd': 123e5},\n",
    "})"
   ]
  },
  {
   "cell_type": "code",
   "execution_count": 8,
   "id": "b5a2a954",
   "metadata": {},
   "outputs": [
    {
     "name": "stdout",
     "output_type": "stream",
     "text": [
      "time: 18.3 ms (started: 2022-02-02 15:44:59 +01:00)\n"
     ]
    }
   ],
   "source": [
    "simulation_analysis_1.model.initial_state.update({\n",
    "    'market_price': {\n",
    "        'cusd_usd': 1},\n",
    "})"
   ]
  },
  {
   "cell_type": "markdown",
   "id": "74238de8",
   "metadata": {},
   "source": [
    "Show updated initial `floating_supply`:"
   ]
  },
  {
   "cell_type": "code",
   "execution_count": 9,
   "id": "9f2cee35",
   "metadata": {},
   "outputs": [
    {
     "name": "stdout",
     "output_type": "stream",
     "text": [
      "{'celo_price': 3.3843676128627402,\n",
      " 'cusd_price': 1.0,\n",
      " 'floating_supply': {'celo': 100000000.0, 'cusd': 12300000.0},\n",
      " 'market_price': {'usd': 1},\n",
      " 'mento_buckets': {'celo': 0.0, 'cusd': 0.0},\n",
      " 'mento_rate': 3.3843676128627402,\n",
      " 'reserve_account': {'account_id': 0, 'celo': 120000000.0, 'cusd': 0.0},\n",
      " 'timestamp': None,\n",
      " 'virtual_tanks': {'usd': 59011440.89484415}}\n",
      "time: 18.8 ms (started: 2022-02-02 15:44:59 +01:00)\n"
     ]
    }
   ],
   "source": [
    "pprint(simulation_analysis_1.model.initial_state)"
   ]
  },
  {
   "cell_type": "markdown",
   "id": "2cb589e5",
   "metadata": {},
   "source": [
    "## Modifying System Parameters"
   ]
  },
  {
   "cell_type": "markdown",
   "id": "fbdcf7ed",
   "metadata": {},
   "source": [
    "To view what the System Parameters (radCAD model configuration setting `params`) are, and to what value they have been set, we can inspect the dictionary as follows:"
   ]
  },
  {
   "cell_type": "code",
   "execution_count": 10,
   "id": "aacdf992",
   "metadata": {},
   "outputs": [
    {
     "name": "stdout",
     "output_type": "stream",
     "text": [
      "{'bucket_update_frequency_seconds': [300],\n",
      " 'cusd_demand': [10000000],\n",
      " 'date_irps': [datetime.datetime(2022, 3, 1, 0, 0)],\n",
      " 'date_stability_providers': [datetime.datetime(2022, 10, 1, 0, 0)],\n",
      " 'drift_market_price': [0],\n",
      " 'dt': [1],\n",
      " 'max_sell_amount': [0.1],\n",
      " 'model': [<MarketPriceModel.GBM: 'gbm'>],\n",
      " 'reserve_fraction': [0.01],\n",
      " 'spread': [0.005],\n",
      " 'volatility_market_price': [0.1]}\n",
      "time: 20.8 ms (started: 2022-02-02 15:44:59 +01:00)\n"
     ]
    }
   ],
   "source": [
    "pprint(simulation_analysis_1.model.params)"
   ]
  },
  {
   "cell_type": "markdown",
   "id": "7471a5ed",
   "metadata": {},
   "source": [
    "To modify the value of **System Parameters** for a specific analysis, you need to select the relevant simulation, and update the chosen model System Parameter (which is a list of values). For example, updating the `reserve_fraction` System Parameter to a sweep of two values, `0.001` and `0.01`:"
   ]
  },
  {
   "cell_type": "code",
   "execution_count": 11,
   "id": "650c6e84",
   "metadata": {},
   "outputs": [
    {
     "name": "stdout",
     "output_type": "stream",
     "text": [
      "time: 19.9 ms (started: 2022-02-02 15:44:59 +01:00)\n"
     ]
    }
   ],
   "source": [
    "simulation_analysis_1.model.params.update({\n",
    "    \"reserve_fraction\": [0.001, 0.1],\n",
    "})"
   ]
  },
  {
   "cell_type": "markdown",
   "id": "de531fb7",
   "metadata": {},
   "source": [
    "## Executing Experiments"
   ]
  },
  {
   "cell_type": "markdown",
   "id": "bb69b0e8",
   "metadata": {},
   "source": [
    "We can now execute our custom analysis and retrieve the post-processed Pandas DataFrame using the `run(...)` method:"
   ]
  },
  {
   "cell_type": "code",
   "execution_count": 12,
   "id": "6125f40a",
   "metadata": {
    "pycharm": {
     "name": "#%%\n"
    }
   },
   "outputs": [
    {
     "name": "stdout",
     "output_type": "stream",
     "text": [
      "2022-02-02 15:44:59,312 - root - INFO - Running experiment\n",
      "> \u001b[0;32m/home/bowd/.local/share/virtualenvs/mento2-model-qQKcNmL1/lib/python3.8/site-packages/radcad/wrappers.py\u001b[0m(130)\u001b[0;36m_before_subset\u001b[0;34m()\u001b[0m\n",
      "\u001b[0;32m    128 \u001b[0;31m    \u001b[0;32mdef\u001b[0m \u001b[0m_before_subset\u001b[0m\u001b[0;34m(\u001b[0m\u001b[0mself\u001b[0m\u001b[0;34m,\u001b[0m \u001b[0mcontext\u001b[0m\u001b[0;34m:\u001b[0m \u001b[0mContext\u001b[0m\u001b[0;34m=\u001b[0m\u001b[0;32mNone\u001b[0m\u001b[0;34m)\u001b[0m\u001b[0;34m:\u001b[0m\u001b[0;34m\u001b[0m\u001b[0;34m\u001b[0m\u001b[0m\n",
      "\u001b[0m\u001b[0;32m    129 \u001b[0;31m        \u001b[0;32mfrom\u001b[0m \u001b[0mIPython\u001b[0m\u001b[0;34m.\u001b[0m\u001b[0mcore\u001b[0m\u001b[0;34m.\u001b[0m\u001b[0mdebugger\u001b[0m \u001b[0;32mimport\u001b[0m \u001b[0mset_trace\u001b[0m\u001b[0;34m;\u001b[0m \u001b[0mset_trace\u001b[0m\u001b[0;34m(\u001b[0m\u001b[0;34m)\u001b[0m\u001b[0;34m\u001b[0m\u001b[0;34m\u001b[0m\u001b[0m\n",
      "\u001b[0m\u001b[0;32m--> 130 \u001b[0;31m        \u001b[0;32mif\u001b[0m \u001b[0mself\u001b[0m\u001b[0;34m.\u001b[0m\u001b[0mbefore_subset\u001b[0m\u001b[0;34m:\u001b[0m\u001b[0;34m\u001b[0m\u001b[0;34m\u001b[0m\u001b[0m\n",
      "\u001b[0m\u001b[0;32m    131 \u001b[0;31m            \u001b[0mself\u001b[0m\u001b[0;34m.\u001b[0m\u001b[0mbefore_subset\u001b[0m\u001b[0;34m(\u001b[0m\u001b[0mcontext\u001b[0m\u001b[0;34m=\u001b[0m\u001b[0mcontext\u001b[0m\u001b[0;34m)\u001b[0m\u001b[0;34m\u001b[0m\u001b[0;34m\u001b[0m\u001b[0m\n",
      "\u001b[0m\u001b[0;32m    132 \u001b[0;31m\u001b[0;34m\u001b[0m\u001b[0m\n",
      "\u001b[0m\n",
      "> \u001b[0;32m/home/bowd/Workspace/job/celo/mento2-model/model/generators/factroy.py\u001b[0m(18)\u001b[0;36mbefore_subset\u001b[0;34m()\u001b[0m\n",
      "\u001b[0;32m     16 \u001b[0;31m        \u001b[0mparams\u001b[0m \u001b[0;34m=\u001b[0m \u001b[0mparam_sweep\u001b[0m\u001b[0;34m[\u001b[0m\u001b[0mcontext\u001b[0m\u001b[0;34m.\u001b[0m\u001b[0msubset\u001b[0m\u001b[0;34m]\u001b[0m\u001b[0;34m\u001b[0m\u001b[0;34m\u001b[0m\u001b[0m\n",
      "\u001b[0m\u001b[0;32m     17 \u001b[0;31m        \u001b[0;32mfrom\u001b[0m \u001b[0mIPython\u001b[0m\u001b[0;34m.\u001b[0m\u001b[0mcore\u001b[0m\u001b[0;34m.\u001b[0m\u001b[0mdebugger\u001b[0m \u001b[0;32mimport\u001b[0m \u001b[0mset_trace\u001b[0m\u001b[0;34m;\u001b[0m \u001b[0mset_trace\u001b[0m\u001b[0;34m(\u001b[0m\u001b[0;34m)\u001b[0m\u001b[0;34m\u001b[0m\u001b[0;34m\u001b[0m\u001b[0m\n",
      "\u001b[0m\u001b[0;32m---> 18 \u001b[0;31m        \u001b[0mcontext\u001b[0m\u001b[0;34m.\u001b[0m\u001b[0minitial_state\u001b[0m\u001b[0;34m.\u001b[0m\u001b[0mupdate\u001b[0m\u001b[0;34m(\u001b[0m\u001b[0mself\u001b[0m\u001b[0;34m.\u001b[0m\u001b[0m__setup_components__\u001b[0m\u001b[0;34m(\u001b[0m\u001b[0mparams\u001b[0m\u001b[0;34m)\u001b[0m\u001b[0;34m)\u001b[0m\u001b[0;34m\u001b[0m\u001b[0;34m\u001b[0m\u001b[0m\n",
      "\u001b[0m\u001b[0;32m     19 \u001b[0;31m\u001b[0;34m\u001b[0m\u001b[0m\n",
      "\u001b[0m\u001b[0;32m     20 \u001b[0;31m    \u001b[0;32mdef\u001b[0m \u001b[0m__setup_components__\u001b[0m\u001b[0;34m(\u001b[0m\u001b[0mself\u001b[0m\u001b[0;34m,\u001b[0m \u001b[0mparams\u001b[0m\u001b[0;34m)\u001b[0m\u001b[0;34m:\u001b[0m\u001b[0;34m\u001b[0m\u001b[0;34m\u001b[0m\u001b[0m\n",
      "\u001b[0m\n",
      "2022-02-02 15:45:02,211 - root - INFO - Starting simulation 0 / run 0 / subset 0\n",
      "Traceback (most recent call last):\n",
      "  File \"/home/bowd/.local/share/virtualenvs/mento2-model-qQKcNmL1/lib/python3.8/site-packages/radcad/core.py\", line 100, in single_run\n",
      "    _single_run(\n",
      "  File \"/home/bowd/.local/share/virtualenvs/mento2-model-qQKcNmL1/lib/python3.8/site-packages/radcad/core.py\", line 68, in _single_run\n",
      "    signals: dict = reduce_signals(\n",
      "  File \"/home/bowd/.local/share/virtualenvs/mento2-model-qQKcNmL1/lib/python3.8/site-packages/radcad/core.py\", line 179, in reduce_signals\n",
      "    policy_results: List[Dict[str, any]] = list(\n",
      "  File \"/home/bowd/.local/share/virtualenvs/mento2-model-qQKcNmL1/lib/python3.8/site-packages/radcad/core.py\", line 180, in <lambda>\n",
      "    map(lambda function: function(params, substep, result, substate), psu[\"policies\"].values())\n",
      "  File \"/home/bowd/Workspace/job/celo/mento2-model/experiments/notebooks/../../model/parts/market_prices.py\", line 10, in p_market_price\n",
      "    'cusd_usd':  prev_state['_market_price_generator'].market_price(prev_state)}\n",
      "  File \"/home/bowd/Workspace/job/celo/mento2-model/experiments/notebooks/../../model/generators/markets.py\", line 63, in market_price\n",
      "    return state['market_price']['cusd_usd'] * self.increments[self.step]\n",
      "KeyError: 'cusd_usd'\n",
      "\n",
      "2022-02-02 15:45:02,213 - root - WARNING - Simulation 0 / run 0 / subset 0 failed! Returning partial results if Engine.raise_exceptions == False.\n"
     ]
    },
    {
     "ename": "KeyError",
     "evalue": "'cusd_usd'",
     "output_type": "error",
     "traceback": [
      "\u001b[0;31m---------------------------------------------------------------------------\u001b[0m",
      "\u001b[0;31mKeyError\u001b[0m                                  Traceback (most recent call last)",
      "Input \u001b[0;32mIn [12]\u001b[0m, in \u001b[0;36m<module>\u001b[0;34m\u001b[0m\n\u001b[0;32m----> 1\u001b[0m df, exceptions \u001b[38;5;241m=\u001b[39m \u001b[43mrun\u001b[49m\u001b[43m(\u001b[49m\u001b[43msimulation_analysis_1\u001b[49m\u001b[43m)\u001b[49m\n",
      "File \u001b[0;32m~/Workspace/job/celo/mento2-model/experiments/notebooks/../../experiments/run.py:24\u001b[0m, in \u001b[0;36mrun\u001b[0;34m(executable)\u001b[0m\n\u001b[1;32m     21\u001b[0m logging\u001b[38;5;241m.\u001b[39minfo(\u001b[38;5;124m\"\u001b[39m\u001b[38;5;124mRunning experiment\u001b[39m\u001b[38;5;124m\"\u001b[39m)\n\u001b[1;32m     22\u001b[0m start_time \u001b[38;5;241m=\u001b[39m time\u001b[38;5;241m.\u001b[39mtime()\n\u001b[0;32m---> 24\u001b[0m \u001b[43mexecutable\u001b[49m\u001b[38;5;241;43m.\u001b[39;49m\u001b[43mrun\u001b[49m\u001b[43m(\u001b[49m\u001b[43m)\u001b[49m\n\u001b[1;32m     26\u001b[0m experiment_duration \u001b[38;5;241m=\u001b[39m time\u001b[38;5;241m.\u001b[39mtime() \u001b[38;5;241m-\u001b[39m start_time\n\u001b[1;32m     27\u001b[0m logging\u001b[38;5;241m.\u001b[39minfo(\u001b[38;5;124mf\u001b[39m\u001b[38;5;124m\"\u001b[39m\u001b[38;5;124mExperiment complete in \u001b[39m\u001b[38;5;132;01m{\u001b[39;00mexperiment_duration\u001b[38;5;132;01m}\u001b[39;00m\u001b[38;5;124m seconds\u001b[39m\u001b[38;5;124m\"\u001b[39m)\n",
      "File \u001b[0;32m~/.local/share/virtualenvs/mento2-model-qQKcNmL1/lib/python3.8/site-packages/radcad/wrappers.py:152\u001b[0m, in \u001b[0;36mSimulation.run\u001b[0;34m(self)\u001b[0m\n\u001b[1;32m    151\u001b[0m \u001b[38;5;28;01mdef\u001b[39;00m \u001b[38;5;21mrun\u001b[39m(\u001b[38;5;28mself\u001b[39m):\n\u001b[0;32m--> 152\u001b[0m     \u001b[38;5;28;01mreturn\u001b[39;00m \u001b[38;5;28;43mself\u001b[39;49m\u001b[38;5;241;43m.\u001b[39;49m\u001b[43mengine\u001b[49m\u001b[38;5;241;43m.\u001b[39;49m\u001b[43m_run\u001b[49m\u001b[43m(\u001b[49m\u001b[43mexecutable\u001b[49m\u001b[38;5;241;43m=\u001b[39;49m\u001b[38;5;28;43mself\u001b[39;49m\u001b[43m)\u001b[49m\n",
      "File \u001b[0;32m~/.local/share/virtualenvs/mento2-model-qQKcNmL1/lib/python3.8/site-packages/radcad/engine.py:80\u001b[0m, in \u001b[0;36mEngine._run\u001b[0;34m(self, executable, **kwargs)\u001b[0m\n\u001b[1;32m     77\u001b[0m \u001b[38;5;28;01melse\u001b[39;00m:\n\u001b[1;32m     78\u001b[0m     \u001b[38;5;28;01mraise\u001b[39;00m \u001b[38;5;167;01mException\u001b[39;00m(\u001b[38;5;124mf\u001b[39m\u001b[38;5;124m\"\u001b[39m\u001b[38;5;124mExecution backend must be one of \u001b[39m\u001b[38;5;132;01m{\u001b[39;00mBackend\u001b[38;5;241m.\u001b[39m_member_names_\u001b[38;5;132;01m}\u001b[39;00m\u001b[38;5;124m, not \u001b[39m\u001b[38;5;132;01m{\u001b[39;00m\u001b[38;5;28mself\u001b[39m\u001b[38;5;241m.\u001b[39mbackend\u001b[38;5;132;01m}\u001b[39;00m\u001b[38;5;124m\"\u001b[39m)\n\u001b[0;32m---> 80\u001b[0m result \u001b[38;5;241m=\u001b[39m \u001b[43mExecutor\u001b[49m\u001b[43m(\u001b[49m\u001b[38;5;28;43mself\u001b[39;49m\u001b[43m)\u001b[49m\u001b[38;5;241;43m.\u001b[39;49m\u001b[43mexecute_runs\u001b[49m\u001b[43m(\u001b[49m\u001b[43m)\u001b[49m\n\u001b[1;32m     82\u001b[0m \u001b[38;5;28mself\u001b[39m\u001b[38;5;241m.\u001b[39mexecutable\u001b[38;5;241m.\u001b[39mresults, \u001b[38;5;28mself\u001b[39m\u001b[38;5;241m.\u001b[39mexecutable\u001b[38;5;241m.\u001b[39mexceptions \u001b[38;5;241m=\u001b[39m extract_exceptions(result)\n\u001b[1;32m     83\u001b[0m \u001b[38;5;28mself\u001b[39m\u001b[38;5;241m.\u001b[39mexecutable\u001b[38;5;241m.\u001b[39m_after_experiment(experiment\u001b[38;5;241m=\u001b[39m(executable \u001b[38;5;28;01mif\u001b[39;00m \u001b[38;5;28misinstance\u001b[39m(executable, wrappers\u001b[38;5;241m.\u001b[39mExperiment) \u001b[38;5;28;01melse\u001b[39;00m \u001b[38;5;28;01mNone\u001b[39;00m))\n",
      "File \u001b[0;32m~/.local/share/virtualenvs/mento2-model-qQKcNmL1/lib/python3.8/site-packages/radcad/backends/single_process.py:7\u001b[0m, in \u001b[0;36mExecutorSingleProcess.execute_runs\u001b[0;34m(self)\u001b[0m\n\u001b[1;32m      6\u001b[0m \u001b[38;5;28;01mdef\u001b[39;00m \u001b[38;5;21mexecute_runs\u001b[39m(\u001b[38;5;28mself\u001b[39m):\n\u001b[0;32m----> 7\u001b[0m     result \u001b[38;5;241m=\u001b[39m [\n\u001b[1;32m      8\u001b[0m         core\u001b[38;5;241m.\u001b[39m_single_run_wrapper((config, \u001b[38;5;28mself\u001b[39m\u001b[38;5;241m.\u001b[39mengine\u001b[38;5;241m.\u001b[39mraise_exceptions))\n\u001b[1;32m      9\u001b[0m         \u001b[38;5;28;01mfor\u001b[39;00m config \u001b[38;5;129;01min\u001b[39;00m \u001b[38;5;28mself\u001b[39m\u001b[38;5;241m.\u001b[39mengine\u001b[38;5;241m.\u001b[39m_run_generator\n\u001b[1;32m     10\u001b[0m     ]\n\u001b[1;32m     11\u001b[0m     \u001b[38;5;28;01mreturn\u001b[39;00m result\n",
      "File \u001b[0;32m~/.local/share/virtualenvs/mento2-model-qQKcNmL1/lib/python3.8/site-packages/radcad/backends/single_process.py:8\u001b[0m, in \u001b[0;36m<listcomp>\u001b[0;34m(.0)\u001b[0m\n\u001b[1;32m      6\u001b[0m \u001b[38;5;28;01mdef\u001b[39;00m \u001b[38;5;21mexecute_runs\u001b[39m(\u001b[38;5;28mself\u001b[39m):\n\u001b[1;32m      7\u001b[0m     result \u001b[38;5;241m=\u001b[39m [\n\u001b[0;32m----> 8\u001b[0m         \u001b[43mcore\u001b[49m\u001b[38;5;241;43m.\u001b[39;49m\u001b[43m_single_run_wrapper\u001b[49m\u001b[43m(\u001b[49m\u001b[43m(\u001b[49m\u001b[43mconfig\u001b[49m\u001b[43m,\u001b[49m\u001b[43m \u001b[49m\u001b[38;5;28;43mself\u001b[39;49m\u001b[38;5;241;43m.\u001b[39;49m\u001b[43mengine\u001b[49m\u001b[38;5;241;43m.\u001b[39;49m\u001b[43mraise_exceptions\u001b[49m\u001b[43m)\u001b[49m\u001b[43m)\u001b[49m\n\u001b[1;32m      9\u001b[0m         \u001b[38;5;28;01mfor\u001b[39;00m config \u001b[38;5;129;01min\u001b[39;00m \u001b[38;5;28mself\u001b[39m\u001b[38;5;241m.\u001b[39mengine\u001b[38;5;241m.\u001b[39m_run_generator\n\u001b[1;32m     10\u001b[0m     ]\n\u001b[1;32m     11\u001b[0m     \u001b[38;5;28;01mreturn\u001b[39;00m result\n",
      "File \u001b[0;32m~/.local/share/virtualenvs/mento2-model-qQKcNmL1/lib/python3.8/site-packages/radcad/core.py:143\u001b[0m, in \u001b[0;36m_single_run_wrapper\u001b[0;34m(args)\u001b[0m\n\u001b[1;32m    141\u001b[0m \u001b[38;5;28;01mexcept\u001b[39;00m \u001b[38;5;167;01mException\u001b[39;00m \u001b[38;5;28;01mas\u001b[39;00m e:\n\u001b[1;32m    142\u001b[0m     \u001b[38;5;28;01mif\u001b[39;00m raise_exceptions:\n\u001b[0;32m--> 143\u001b[0m         \u001b[38;5;28;01mraise\u001b[39;00m e\n\u001b[1;32m    144\u001b[0m     \u001b[38;5;28;01melse\u001b[39;00m:\n\u001b[1;32m    145\u001b[0m         \u001b[38;5;28;01mreturn\u001b[39;00m [], e\n",
      "File \u001b[0;32m~/.local/share/virtualenvs/mento2-model-qQKcNmL1/lib/python3.8/site-packages/radcad/core.py:129\u001b[0m, in \u001b[0;36m_single_run_wrapper\u001b[0;34m(args)\u001b[0m\n\u001b[1;32m    127\u001b[0m results, exception, traceback \u001b[38;5;241m=\u001b[39m single_run(\u001b[38;5;241m*\u001b[39m\u001b[38;5;28mtuple\u001b[39m(run_args))\n\u001b[1;32m    128\u001b[0m \u001b[38;5;28;01mif\u001b[39;00m raise_exceptions \u001b[38;5;129;01mand\u001b[39;00m exception:\n\u001b[0;32m--> 129\u001b[0m     \u001b[38;5;28;01mraise\u001b[39;00m exception\n\u001b[1;32m    130\u001b[0m \u001b[38;5;28;01melse\u001b[39;00m:\n\u001b[1;32m    131\u001b[0m     \u001b[38;5;28;01mreturn\u001b[39;00m results, {\n\u001b[1;32m    132\u001b[0m             \u001b[38;5;124m'\u001b[39m\u001b[38;5;124mexception\u001b[39m\u001b[38;5;124m'\u001b[39m: exception,\n\u001b[1;32m    133\u001b[0m             \u001b[38;5;124m'\u001b[39m\u001b[38;5;124mtraceback\u001b[39m\u001b[38;5;124m'\u001b[39m: traceback,\n\u001b[0;32m   (...)\u001b[0m\n\u001b[1;32m    139\u001b[0m             \u001b[38;5;124m'\u001b[39m\u001b[38;5;124minitial_state\u001b[39m\u001b[38;5;124m'\u001b[39m: run_args\u001b[38;5;241m.\u001b[39minitial_state,\n\u001b[1;32m    140\u001b[0m         }\n",
      "File \u001b[0;32m~/.local/share/virtualenvs/mento2-model-qQKcNmL1/lib/python3.8/site-packages/radcad/core.py:100\u001b[0m, in \u001b[0;36msingle_run\u001b[0;34m(simulation, timesteps, run, subset, initial_state, state_update_blocks, params, deepcopy, drop_substeps)\u001b[0m\n\u001b[1;32m     96\u001b[0m result \u001b[38;5;241m=\u001b[39m []\n\u001b[1;32m     98\u001b[0m \u001b[38;5;28;01mtry\u001b[39;00m:\n\u001b[1;32m     99\u001b[0m     \u001b[38;5;28;01mreturn\u001b[39;00m (\n\u001b[0;32m--> 100\u001b[0m         \u001b[43m_single_run\u001b[49m\u001b[43m(\u001b[49m\n\u001b[1;32m    101\u001b[0m \u001b[43m            \u001b[49m\u001b[43mresult\u001b[49m\u001b[43m,\u001b[49m\n\u001b[1;32m    102\u001b[0m \u001b[43m            \u001b[49m\u001b[43msimulation\u001b[49m\u001b[43m,\u001b[49m\n\u001b[1;32m    103\u001b[0m \u001b[43m            \u001b[49m\u001b[43mtimesteps\u001b[49m\u001b[43m,\u001b[49m\n\u001b[1;32m    104\u001b[0m \u001b[43m            \u001b[49m\u001b[43mrun\u001b[49m\u001b[43m,\u001b[49m\n\u001b[1;32m    105\u001b[0m \u001b[43m            \u001b[49m\u001b[43msubset\u001b[49m\u001b[43m,\u001b[49m\n\u001b[1;32m    106\u001b[0m \u001b[43m            \u001b[49m\u001b[43minitial_state\u001b[49m\u001b[43m,\u001b[49m\n\u001b[1;32m    107\u001b[0m \u001b[43m            \u001b[49m\u001b[43mstate_update_blocks\u001b[49m\u001b[43m,\u001b[49m\n\u001b[1;32m    108\u001b[0m \u001b[43m            \u001b[49m\u001b[43mparams\u001b[49m\u001b[43m,\u001b[49m\n\u001b[1;32m    109\u001b[0m \u001b[43m            \u001b[49m\u001b[43mdeepcopy\u001b[49m\u001b[43m,\u001b[49m\n\u001b[1;32m    110\u001b[0m \u001b[43m            \u001b[49m\u001b[43mdrop_substeps\u001b[49m\u001b[43m,\u001b[49m\n\u001b[1;32m    111\u001b[0m \u001b[43m        \u001b[49m\u001b[43m)\u001b[49m,\n\u001b[1;32m    112\u001b[0m         \u001b[38;5;28;01mNone\u001b[39;00m, \u001b[38;5;66;03m# Error\u001b[39;00m\n\u001b[1;32m    113\u001b[0m         \u001b[38;5;28;01mNone\u001b[39;00m, \u001b[38;5;66;03m# Traceback\u001b[39;00m\n\u001b[1;32m    114\u001b[0m     )\n\u001b[1;32m    115\u001b[0m \u001b[38;5;28;01mexcept\u001b[39;00m \u001b[38;5;167;01mException\u001b[39;00m \u001b[38;5;28;01mas\u001b[39;00m error:\n\u001b[1;32m    116\u001b[0m     trace \u001b[38;5;241m=\u001b[39m traceback\u001b[38;5;241m.\u001b[39mformat_exc()\n",
      "File \u001b[0;32m~/.local/share/virtualenvs/mento2-model-qQKcNmL1/lib/python3.8/site-packages/radcad/core.py:68\u001b[0m, in \u001b[0;36m_single_run\u001b[0;34m(result, simulation, timesteps, run, subset, initial_state, state_update_blocks, params, deepcopy, drop_substeps)\u001b[0m\n\u001b[1;32m     65\u001b[0m substate_copy \u001b[38;5;241m=\u001b[39m pickle\u001b[38;5;241m.\u001b[39mloads(pickle\u001b[38;5;241m.\u001b[39mdumps(substate, \u001b[38;5;241m-\u001b[39m\u001b[38;5;241m1\u001b[39m)) \u001b[38;5;28;01mif\u001b[39;00m deepcopy \u001b[38;5;28;01melse\u001b[39;00m substate\u001b[38;5;241m.\u001b[39mcopy()\n\u001b[1;32m     66\u001b[0m substate[\u001b[38;5;124m\"\u001b[39m\u001b[38;5;124msubstep\u001b[39m\u001b[38;5;124m\"\u001b[39m] \u001b[38;5;241m=\u001b[39m substep \u001b[38;5;241m+\u001b[39m \u001b[38;5;241m1\u001b[39m\n\u001b[0;32m---> 68\u001b[0m signals: \u001b[38;5;28mdict\u001b[39m \u001b[38;5;241m=\u001b[39m \u001b[43mreduce_signals\u001b[49m\u001b[43m(\u001b[49m\n\u001b[1;32m     69\u001b[0m \u001b[43m    \u001b[49m\u001b[43mparams\u001b[49m\u001b[43m,\u001b[49m\u001b[43m \u001b[49m\u001b[43msubstep\u001b[49m\u001b[43m,\u001b[49m\u001b[43m \u001b[49m\u001b[43mresult\u001b[49m\u001b[43m,\u001b[49m\u001b[43m \u001b[49m\u001b[43msubstate_copy\u001b[49m\u001b[43m,\u001b[49m\u001b[43m \u001b[49m\u001b[43mpsu\u001b[49m\u001b[43m,\u001b[49m\u001b[43m \u001b[49m\u001b[43mdeepcopy\u001b[49m\n\u001b[1;32m     70\u001b[0m \u001b[43m\u001b[49m\u001b[43m)\u001b[49m\n\u001b[1;32m     72\u001b[0m updated_state \u001b[38;5;241m=\u001b[39m \u001b[38;5;28mmap\u001b[39m(\n\u001b[1;32m     73\u001b[0m     partial(_update_state, initial_state, params, substep, result, substate_copy, signals),\n\u001b[1;32m     74\u001b[0m     psu[\u001b[38;5;124m\"\u001b[39m\u001b[38;5;124mvariables\u001b[39m\u001b[38;5;124m\"\u001b[39m]\u001b[38;5;241m.\u001b[39mitems()\n\u001b[1;32m     75\u001b[0m )\n\u001b[1;32m     76\u001b[0m substate\u001b[38;5;241m.\u001b[39mupdate(updated_state)\n",
      "File \u001b[0;32m~/.local/share/virtualenvs/mento2-model-qQKcNmL1/lib/python3.8/site-packages/radcad/core.py:179\u001b[0m, in \u001b[0;36mreduce_signals\u001b[0;34m(params, substep, result, substate, psu, deepcopy)\u001b[0m\n\u001b[1;32m    178\u001b[0m \u001b[38;5;28;01mdef\u001b[39;00m \u001b[38;5;21mreduce_signals\u001b[39m(params: \u001b[38;5;28mdict\u001b[39m, substep: \u001b[38;5;28mint\u001b[39m, result: \u001b[38;5;28mlist\u001b[39m, substate: \u001b[38;5;28mdict\u001b[39m, psu: \u001b[38;5;28mdict\u001b[39m, deepcopy: \u001b[38;5;28mbool\u001b[39m\u001b[38;5;241m=\u001b[39m\u001b[38;5;28;01mTrue\u001b[39;00m):\n\u001b[0;32m--> 179\u001b[0m     policy_results: List[Dict[\u001b[38;5;28mstr\u001b[39m, \u001b[38;5;28many\u001b[39m]] \u001b[38;5;241m=\u001b[39m \u001b[38;5;28;43mlist\u001b[39;49m\u001b[43m(\u001b[49m\n\u001b[1;32m    180\u001b[0m \u001b[43m        \u001b[49m\u001b[38;5;28;43mmap\u001b[39;49m\u001b[43m(\u001b[49m\u001b[38;5;28;43;01mlambda\u001b[39;49;00m\u001b[43m \u001b[49m\u001b[43mfunction\u001b[49m\u001b[43m:\u001b[49m\u001b[43m \u001b[49m\u001b[43mfunction\u001b[49m\u001b[43m(\u001b[49m\u001b[43mparams\u001b[49m\u001b[43m,\u001b[49m\u001b[43m \u001b[49m\u001b[43msubstep\u001b[49m\u001b[43m,\u001b[49m\u001b[43m \u001b[49m\u001b[43mresult\u001b[49m\u001b[43m,\u001b[49m\u001b[43m \u001b[49m\u001b[43msubstate\u001b[49m\u001b[43m)\u001b[49m\u001b[43m,\u001b[49m\u001b[43m \u001b[49m\u001b[43mpsu\u001b[49m\u001b[43m[\u001b[49m\u001b[38;5;124;43m\"\u001b[39;49m\u001b[38;5;124;43mpolicies\u001b[39;49m\u001b[38;5;124;43m\"\u001b[39;49m\u001b[43m]\u001b[49m\u001b[38;5;241;43m.\u001b[39;49m\u001b[43mvalues\u001b[49m\u001b[43m(\u001b[49m\u001b[43m)\u001b[49m\u001b[43m)\u001b[49m\n\u001b[1;32m    181\u001b[0m \u001b[43m    \u001b[49m\u001b[43m)\u001b[49m\n\u001b[1;32m    183\u001b[0m     result: \u001b[38;5;28mdict\u001b[39m \u001b[38;5;241m=\u001b[39m {}\n\u001b[1;32m    184\u001b[0m     result_length \u001b[38;5;241m=\u001b[39m \u001b[38;5;28mlen\u001b[39m(policy_results)\n",
      "File \u001b[0;32m~/.local/share/virtualenvs/mento2-model-qQKcNmL1/lib/python3.8/site-packages/radcad/core.py:180\u001b[0m, in \u001b[0;36mreduce_signals.<locals>.<lambda>\u001b[0;34m(function)\u001b[0m\n\u001b[1;32m    178\u001b[0m \u001b[38;5;28;01mdef\u001b[39;00m \u001b[38;5;21mreduce_signals\u001b[39m(params: \u001b[38;5;28mdict\u001b[39m, substep: \u001b[38;5;28mint\u001b[39m, result: \u001b[38;5;28mlist\u001b[39m, substate: \u001b[38;5;28mdict\u001b[39m, psu: \u001b[38;5;28mdict\u001b[39m, deepcopy: \u001b[38;5;28mbool\u001b[39m\u001b[38;5;241m=\u001b[39m\u001b[38;5;28;01mTrue\u001b[39;00m):\n\u001b[1;32m    179\u001b[0m     policy_results: List[Dict[\u001b[38;5;28mstr\u001b[39m, \u001b[38;5;28many\u001b[39m]] \u001b[38;5;241m=\u001b[39m \u001b[38;5;28mlist\u001b[39m(\n\u001b[0;32m--> 180\u001b[0m         \u001b[38;5;28mmap\u001b[39m(\u001b[38;5;28;01mlambda\u001b[39;00m function: \u001b[43mfunction\u001b[49m\u001b[43m(\u001b[49m\u001b[43mparams\u001b[49m\u001b[43m,\u001b[49m\u001b[43m \u001b[49m\u001b[43msubstep\u001b[49m\u001b[43m,\u001b[49m\u001b[43m \u001b[49m\u001b[43mresult\u001b[49m\u001b[43m,\u001b[49m\u001b[43m \u001b[49m\u001b[43msubstate\u001b[49m\u001b[43m)\u001b[49m, psu[\u001b[38;5;124m\"\u001b[39m\u001b[38;5;124mpolicies\u001b[39m\u001b[38;5;124m\"\u001b[39m]\u001b[38;5;241m.\u001b[39mvalues())\n\u001b[1;32m    181\u001b[0m     )\n\u001b[1;32m    183\u001b[0m     result: \u001b[38;5;28mdict\u001b[39m \u001b[38;5;241m=\u001b[39m {}\n\u001b[1;32m    184\u001b[0m     result_length \u001b[38;5;241m=\u001b[39m \u001b[38;5;28mlen\u001b[39m(policy_results)\n",
      "File \u001b[0;32m~/Workspace/job/celo/mento2-model/experiments/notebooks/../../model/parts/market_prices.py:10\u001b[0m, in \u001b[0;36mp_market_price\u001b[0;34m(params, substep, state_history, prev_state)\u001b[0m\n\u001b[1;32m      8\u001b[0m \u001b[38;5;28;01mdef\u001b[39;00m \u001b[38;5;21mp_market_price\u001b[39m(params, substep, state_history, prev_state):\n\u001b[1;32m      9\u001b[0m     market_price \u001b[38;5;241m=\u001b[39m {\n\u001b[0;32m---> 10\u001b[0m         \u001b[38;5;124m'\u001b[39m\u001b[38;5;124mcusd_usd\u001b[39m\u001b[38;5;124m'\u001b[39m:  \u001b[43mprev_state\u001b[49m\u001b[43m[\u001b[49m\u001b[38;5;124;43m'\u001b[39;49m\u001b[38;5;124;43m_market_price_generator\u001b[39;49m\u001b[38;5;124;43m'\u001b[39;49m\u001b[43m]\u001b[49m\u001b[38;5;241;43m.\u001b[39;49m\u001b[43mmarket_price\u001b[49m\u001b[43m(\u001b[49m\u001b[43mprev_state\u001b[49m\u001b[43m)\u001b[49m}\n\u001b[1;32m     11\u001b[0m     \u001b[38;5;28;01mreturn\u001b[39;00m {\u001b[38;5;124m'\u001b[39m\u001b[38;5;124mmarket_price\u001b[39m\u001b[38;5;124m'\u001b[39m: market_price,\n\u001b[1;32m     12\u001b[0m             \u001b[38;5;124m'\u001b[39m\u001b[38;5;124mvirtual_tanks\u001b[39m\u001b[38;5;124m'\u001b[39m: {\u001b[38;5;124m'\u001b[39m\u001b[38;5;124musd\u001b[39m\u001b[38;5;124m'\u001b[39m: prev_state[\u001b[38;5;124m'\u001b[39m\u001b[38;5;124mvirtual_tanks\u001b[39m\u001b[38;5;124m'\u001b[39m][\u001b[38;5;124m'\u001b[39m\u001b[38;5;124musd\u001b[39m\u001b[38;5;124m'\u001b[39m]}}\n",
      "File \u001b[0;32m~/Workspace/job/celo/mento2-model/experiments/notebooks/../../model/generators/markets.py:63\u001b[0m, in \u001b[0;36mMarketPriceGenerator.market_price\u001b[0;34m(self, state)\u001b[0m\n\u001b[1;32m     61\u001b[0m \u001b[38;5;28;01mif\u001b[39;00m \u001b[38;5;28mself\u001b[39m\u001b[38;5;241m.\u001b[39mmodel \u001b[38;5;241m==\u001b[39m MarketPriceModel\u001b[38;5;241m.\u001b[39mGBM:\n\u001b[1;32m     62\u001b[0m     \u001b[38;5;28mself\u001b[39m\u001b[38;5;241m.\u001b[39mstep \u001b[38;5;241m=\u001b[39m \u001b[38;5;241m+\u001b[39m \u001b[38;5;241m1\u001b[39m\n\u001b[0;32m---> 63\u001b[0m     \u001b[38;5;28;01mreturn\u001b[39;00m \u001b[43mstate\u001b[49m\u001b[43m[\u001b[49m\u001b[38;5;124;43m'\u001b[39;49m\u001b[38;5;124;43mmarket_price\u001b[39;49m\u001b[38;5;124;43m'\u001b[39;49m\u001b[43m]\u001b[49m\u001b[43m[\u001b[49m\u001b[38;5;124;43m'\u001b[39;49m\u001b[38;5;124;43mcusd_usd\u001b[39;49m\u001b[38;5;124;43m'\u001b[39;49m\u001b[43m]\u001b[49m \u001b[38;5;241m*\u001b[39m \u001b[38;5;28mself\u001b[39m\u001b[38;5;241m.\u001b[39mincrements[\u001b[38;5;28mself\u001b[39m\u001b[38;5;241m.\u001b[39mstep]\n\u001b[1;32m     64\u001b[0m \u001b[38;5;28;01melif\u001b[39;00m \u001b[38;5;28mself\u001b[39m\u001b[38;5;241m.\u001b[39mmodel \u001b[38;5;241m==\u001b[39m MarketPriceModel\u001b[38;5;241m.\u001b[39mPRICE_IMPACT:\n\u001b[1;32m     65\u001b[0m     \u001b[38;5;28;01mreturn\u001b[39;00m \u001b[38;5;28mself\u001b[39m\u001b[38;5;241m.\u001b[39mvaluate(state[\u001b[38;5;124m'\u001b[39m\u001b[38;5;124msupply\u001b[39m\u001b[38;5;124m'\u001b[39m], state[\u001b[38;5;124m'\u001b[39m\u001b[38;5;124mvirtual_tank\u001b[39m\u001b[38;5;124m'\u001b[39m])\n",
      "\u001b[0;31mKeyError\u001b[0m: 'cusd_usd'"
     ]
    },
    {
     "name": "stdout",
     "output_type": "stream",
     "text": [
      "time: 3.54 s (started: 2022-02-02 15:44:59 +01:00)\n"
     ]
    }
   ],
   "source": [
    "df, exceptions = run(simulation_analysis_1)"
   ]
  },
  {
   "cell_type": "markdown",
   "id": "d08319ab",
   "metadata": {},
   "source": [
    "## Post-processing and Analysing Results"
   ]
  },
  {
   "cell_type": "markdown",
   "id": "cf691aa9",
   "metadata": {},
   "source": [
    "We can see that we had no exceptions for the single simulation we executed:"
   ]
  },
  {
   "cell_type": "code",
   "execution_count": null,
   "id": "dbb2f778",
   "metadata": {},
   "outputs": [],
   "source": [
    "exceptions[0]['exception'] == None"
   ]
  },
  {
   "cell_type": "markdown",
   "id": "74b7756c",
   "metadata": {},
   "source": [
    "We can simply display the Pandas DataFrame to inspect the results. This DataFrame already has some default post-processing applied (see [experiments/post_processing.py](../post_processing.py)). For example, parameters that change in the parameter grid (if there are any) are attached as columns to the end of the dataframe."
   ]
  },
  {
   "cell_type": "code",
   "execution_count": null,
   "id": "d4326124",
   "metadata": {
    "scrolled": true
   },
   "outputs": [],
   "source": [
    "df[df.simulation==0]"
   ]
  },
  {
   "cell_type": "code",
   "execution_count": null,
   "id": "09b11a3f",
   "metadata": {},
   "outputs": [],
   "source": [
    "# Show which reserve_fraction values were used in the grid\n",
    "df.groupby('subset')['reserve_fraction'].unique()"
   ]
  },
  {
   "cell_type": "markdown",
   "id": "9647375d-7516-4e26-9dd7-eee458d3aab7",
   "metadata": {},
   "source": [
    "We can also use Pandas for numerical analyses:"
   ]
  },
  {
   "cell_type": "code",
   "execution_count": null,
   "id": "8e52f2be-059b-4762-b0e2-a6228d7efdaa",
   "metadata": {},
   "outputs": [],
   "source": [
    "# Get the maximum mento_rate for each subset: in this example each reserve_fraction value used in the grid.\n",
    "df.groupby('subset')['mento_rate'].max()"
   ]
  },
  {
   "cell_type": "markdown",
   "id": "26f2e7ef",
   "metadata": {},
   "source": [
    "## Visualizing Results"
   ]
  },
  {
   "cell_type": "markdown",
   "id": "6ac53e3b",
   "metadata": {},
   "source": [
    "Once we have the results post-processed and in a Pandas DataFrame, we can use Plotly for plotting our results:"
   ]
  },
  {
   "cell_type": "code",
   "execution_count": null,
   "id": "44c4d969",
   "metadata": {},
   "outputs": [],
   "source": [
    "# Plot the mento_rate for each subset (each parameter grid combination)\n",
    "px.line(df, x='timestep', y='mento_rate', facet_col='subset')"
   ]
  },
  {
   "cell_type": "code",
   "execution_count": null,
   "id": "658cc61b-001e-4342-b4b3-b071a59c08be",
   "metadata": {},
   "outputs": [],
   "source": [
    "# Plot using visualizations predefined in the visualizations module\n",
    "visualizations.plot_celo_price(df)"
   ]
  },
  {
   "cell_type": "markdown",
   "id": "3bb124e9",
   "metadata": {},
   "source": [
    "# Creating New, Customized Experiment Notebooks\n",
    "\n",
    "If you want to create an entirely new analysis, you'll need to create a new experiment notebook, which entails the following steps:\n",
    "* Step 1: Select an experiment template from the `experiments/templates/` directory to start from. If you'd like to create your own template, the [example_analysis.py](../templates/example_analysis.py) template gives an example of extending the default experiment to override default State Variables and System Parameters that you can copy.\n",
    "* Step 2: Create a new notebook in the `experiments/notebooks/` directory, using the [template.ipynb](./template.ipynb) notebook as a guide, and import the experiment from the experiment template.\n",
    "* Step 3: Customize the experiment for your specific analysis.\n",
    "* Step 4: Execute your experiment, post-process and analyze the results, and create Plotly charts!"
   ]
  },
  {
   "cell_type": "markdown",
   "id": "239bfea4",
   "metadata": {},
   "source": [
    "# Advanced Experiment-configuration & Simulation Techniques"
   ]
  },
  {
   "cell_type": "markdown",
   "id": "616a0876",
   "metadata": {},
   "source": [
    "## Setting Simulation Timesteps and Unit of Time `dt`"
   ]
  },
  {
   "cell_type": "code",
   "execution_count": null,
   "id": "cb7b71f4",
   "metadata": {},
   "outputs": [],
   "source": [
    "from experiments.simulation_configuration import TIMESTEPS, DELTA_TIME"
   ]
  },
  {
   "cell_type": "markdown",
   "id": "f1b8afec",
   "metadata": {},
   "source": [
    "We can configure the number of simulation timesteps `TIMESTEPS` from a `simulation_time_seconds` divided by the product of `blocktime_seconds` and the number of blocks per timestep `DELTA_TIME`:"
   ]
  },
  {
   "cell_type": "markdown",
   "id": "2522ddd4",
   "metadata": {},
   "source": [
    "`DELTA_TIME` is a variable that sets how many blocks are simulated for each timestep. Sometimes, if we don't need a finer granularity (1 block per timestep, for example), we can then set `DELTA_TIME` to a larger integer value for better performance. The default value is 1 block per timestep which means we simulate on a per block basis."
   ]
  },
  {
   "cell_type": "markdown",
   "id": "31103059",
   "metadata": {},
   "source": [
    "```python\n",
    "simulation_time_seconds = 365 * 24 * 60 * 60  # If we choose 1 year\n",
    "TIMESTEPS = simulation_time_seconds // (constants.blocktime_seconds * DELTA_TIME)\n",
    "```"
   ]
  },
  {
   "cell_type": "code",
   "execution_count": null,
   "id": "3568dcc2",
   "metadata": {},
   "outputs": [],
   "source": [
    "TIMESTEPS"
   ]
  },
  {
   "cell_type": "markdown",
   "id": "3c877b56",
   "metadata": {},
   "source": [
    "Finally, to set the simulation timesteps (note, additionally you may have to update the environmental processes that depend on the number of timesteps, and override the relevant parameters):"
   ]
  },
  {
   "cell_type": "code",
   "execution_count": null,
   "id": "d7f070d6",
   "metadata": {},
   "outputs": [],
   "source": [
    "simulation_analysis_1.timesteps = TIMESTEPS"
   ]
  },
  {
   "cell_type": "markdown",
   "id": "2b9011d0",
   "metadata": {},
   "source": [
    "## Changing the Mento1 -> Mento2 Upgrade Stage"
   ]
  },
  {
   "cell_type": "markdown",
   "id": "c871e49a",
   "metadata": {},
   "source": [
    "The model operates over different Mento1 -> Mento2 upgrade stages. The default experiment operates in the \"mento1\" stage (so no upgrades).\n",
    "\n",
    "`Stage` is an Enum; we can import it and see what options we have:"
   ]
  },
  {
   "cell_type": "code",
   "execution_count": null,
   "id": "8f3a5e5a",
   "metadata": {},
   "outputs": [],
   "source": [
    "from model.types import Stage"
   ]
  },
  {
   "cell_type": "markdown",
   "id": "2fd3d0b8",
   "metadata": {},
   "source": [
    "The model is well documented, and we can view the Python docstring to see what a Stage is, and create a dictionary to view the Enum members:"
   ]
  },
  {
   "cell_type": "code",
   "execution_count": null,
   "id": "a560f5be",
   "metadata": {},
   "outputs": [],
   "source": [
    "print(Stage.__doc__)\n",
    "{e.name: e.value for e in Stage}"
   ]
  },
  {
   "cell_type": "markdown",
   "id": "25891c08",
   "metadata": {},
   "source": [
    "The `Mento1` stage, for example, assumes the mento1 setup w/o stability providers, IRPS, etc."
   ]
  },
  {
   "cell_type": "code",
   "execution_count": null,
   "id": "b251c46a",
   "metadata": {},
   "outputs": [],
   "source": [
    "display_code(Stage)"
   ]
  },
  {
   "cell_type": "markdown",
   "id": "3d083401",
   "metadata": {},
   "source": [
    "As before, we can update the \"stage\" System Parameter to set the relevant Stage:"
   ]
  },
  {
   "cell_type": "code",
   "execution_count": null,
   "id": "fe95b515",
   "metadata": {},
   "outputs": [],
   "source": [
    "simulation_analysis_1.model.params.update({\n",
    "    \"stage\": [Stage.Mento1]\n",
    "})"
   ]
  },
  {
   "cell_type": "markdown",
   "id": "b87aa002",
   "metadata": {},
   "source": [
    "## Performing Large-scale Experiments (NOT WORKING YET!)"
   ]
  },
  {
   "cell_type": "markdown",
   "id": "8d08f7cb",
   "metadata": {},
   "source": [
    "When executing an experiment, we have three degrees of freedom - **simulations, runs, and subsets** (parameter sweeps).\n",
    "\n",
    "We can have multiple simulations for a single experiment, multiple runs for every simulation, and we can have multiple subsets for every run. Remember that `simulation`, `run`, and `subset` are simply additional State Variables set by the radCAD engine during execution – we then use those State Variables to index the results for a specific dimension, e.g. simulation 1, run 5, and subset 2.\n",
    "\n",
    "Each dimension has a generally accepted purpose:\n",
    "* Simulations are used for A/B testing\n",
    "* Runs are used for Monte Carlo analysis\n",
    "* Subsets are used for parameter sweeps\n",
    "\n",
    "In some cases, we break these \"rules\" to allow for more degrees of freedom or easier configuration.\n",
    "\n",
    "One example of this is the `eth_price_eth_staked_grid_analysis` experiment template we imported earlier:"
   ]
  },
  {
   "cell_type": "code",
   "execution_count": null,
   "id": "82d7720a",
   "metadata": {},
   "outputs": [],
   "source": [
    "display_code(eth_price_eth_staked_grid_analysis)"
   ]
  },
  {
   "cell_type": "markdown",
   "id": "7478d82a",
   "metadata": {},
   "source": [
    "Here, we create a grid of two State Variables – ETH price and ETH staked – using the `eth_price_process` and `eth_staked_process`.\n",
    "\n",
    "Instead of sweeping the two System Parameters to create different subsets, we pre-generate all possible combinations of the two values first and use the specific `run` to index the data, i.e. for each run we get a new ETH price and ETH staked sample.\n",
    "\n",
    "This allows the experimenter (you!) to use a parameter sweep on top of this analysis if they choose, and we have kept one degree of freedom."
   ]
  },
  {
   "cell_type": "markdown",
   "id": "fe247f18",
   "metadata": {},
   "source": [
    "### Composing an Experiment Using **simulations, runs, and subsets**"
   ]
  },
  {
   "cell_type": "code",
   "execution_count": null,
   "id": "99b0be11",
   "metadata": {},
   "outputs": [],
   "source": [
    "from radcad import Experiment, Engine, Backend\n",
    "\n",
    "\n",
    "# Create a new Experiment of three Simulations:\n",
    "# * Simulation Analysis 1 has one run and two subsets – a parameter sweep of two values (BASE_REWARD_FACTOR = [64, 32])\n",
    "# * Simulation Analysis 2 has one run and one subset – a basic simulation configuration\n",
    "# * Simulation Analysis 3 has 400 runs (20 * 20) and one subset – a parameter grid indexed using `run`\n",
    "experiment = Experiment([simulation_analysis_1, simulation_analysis_2, simulation_analysis_3])"
   ]
  },
  {
   "cell_type": "markdown",
   "id": "eb7be8ca",
   "metadata": {},
   "source": [
    "### Configuring the radCAD Engine for High Performance\n",
    "\n",
    "To improve simulation performance for large-scale experiments, we can set the following settings using the radCAD `Engine`. Both Experiments and Simulations have the same `Engine`; when executing an `Experiment` we set these settings on the `Experiment` instance:"
   ]
  },
  {
   "cell_type": "code",
   "execution_count": null,
   "id": "3dea43e2",
   "metadata": {},
   "outputs": [],
   "source": [
    "# Configure Experiment Engine\n",
    "experiment.engine = Engine(\n",
    "    # Use a single process; the overhead of creating multiple processes\n",
    "    # for parallel-processing is only worthwhile when the Simulation runtime is long\n",
    "    backend = Backend.SINGLE_PROCESS,\n",
    "    # Disable System Parameter and State Variable deepcopy:\n",
    "    # * Deepcopy prevents mutation of state at the cost of lower performance\n",
    "    # * Disabling it leaves it up to the experimenter to use Python best-practises to avoid \n",
    "    # state mutation, like manually using `copy` and `deepcopy` methods before\n",
    "    # performing mutating calculations when necessary\n",
    "    deepcopy = False,\n",
    "    # If we don't need the state history from individual substeps,\n",
    "    # we can get rid of them for higher performance\n",
    "    drop_substeps = True,\n",
    ")\n",
    "\n",
    "# Disable logging\n",
    "# For large experiments, there is lots of logging. This can get messy...\n",
    "logger = logging.getLogger()\n",
    "logger.disabled = True\n",
    "\n",
    "# Execute Experiment\n",
    "raw_results = experiment.run()"
   ]
  },
  {
   "cell_type": "markdown",
   "id": "b4b7b571",
   "metadata": {},
   "source": [
    "### Indexing a Large-scale Experiment Dataset"
   ]
  },
  {
   "cell_type": "code",
   "execution_count": null,
   "id": "b26e20a3",
   "metadata": {},
   "outputs": [],
   "source": [
    "# Create a Pandas DataFrame from the raw results\n",
    "df = pd.DataFrame(experiment.results)\n",
    "df"
   ]
  },
  {
   "cell_type": "code",
   "execution_count": null,
   "id": "92a9b2c6",
   "metadata": {},
   "outputs": [],
   "source": [
    "# Select each Simulation dataset\n",
    "df_0 = df[df.simulation == 0]\n",
    "df_1 = df[df.simulation == 1]\n",
    "df_2 = df[df.simulation == 2]\n",
    "\n",
    "datasets = [df_0, df_1, df_2]\n",
    "\n",
    "# Determine size of Simulation datasets\n",
    "for index, data in enumerate(datasets):\n",
    "    runs = len(data.run.unique())\n",
    "    subsets = len(data.subset.unique())\n",
    "    timesteps = len(data.timestep.unique())\n",
    "    \n",
    "    print(f\"Simulation {index} has {runs} runs * {subsets} subsets * {timesteps} timesteps = {runs * subsets * timesteps} rows\")"
   ]
  },
  {
   "cell_type": "code",
   "execution_count": null,
   "id": "4cca413b",
   "metadata": {},
   "outputs": [],
   "source": [
    "# Indexing simulation 0, run 1 (indexed from one!), subset 1, timestep 1\n",
    "df.query(\"simulation == 0 and run == 1 and subset == 1 and timestep == 1\")"
   ]
  }
 ],
 "metadata": {
  "kernelspec": {
   "display_name": "Python 3",
   "language": "python",
   "name": "python3"
  },
  "language_info": {
   "codemirror_mode": {
    "name": "ipython",
    "version": 3
   },
   "file_extension": ".py",
   "mimetype": "text/x-python",
   "name": "python",
   "nbconvert_exporter": "python",
   "pygments_lexer": "ipython3",
   "version": "3.8.12"
  }
 },
 "nbformat": 4,
 "nbformat_minor": 5
}
