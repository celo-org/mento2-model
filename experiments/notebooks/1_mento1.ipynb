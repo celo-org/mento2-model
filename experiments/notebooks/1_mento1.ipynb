{
 "cells": [
  {
   "cell_type": "markdown",
   "id": "f959b450",
   "metadata": {},
   "source": [
    "# Experiment README"
   ]
  },
  {
   "cell_type": "markdown",
   "id": "afd28658",
   "metadata": {},
   "source": [
    "## Table of Contents\n",
    "\n",
    "* [Overview of Experiment Architecture](#Overview-of-Experiment-Architecture)\n",
    "* [Experiment Workflow](#Experiment-Workflow)\n",
    "    * [Modifying State Variables](#Modifying-State-Variables)\n",
    "    * [Modifying System Parameters](#Modifying-System-Parameters)\n",
    "    * [Executing Experiments](#Executing-Experiments)\n",
    "    * [Post-processing and Analysing Results](#Post-processing-and-Analysing-Results)\n",
    "    * [Visualizing Results](#Visualizing-Results)\n",
    "* [Creating New, Customized Experiment Notebooks](#Creating-New,-Customized-Experiment-Notebooks)\n",
    "    * Step 1: Select an experiment template\n",
    "    * Step 2: Create a new notebook\n",
    "    * Step 3: Customize the experiment\n",
    "    * Step 4: Execute the experiment\n",
    "* [Advanced Experiment-configuration & Simulation Techniques](#Advanced-Experiment-configuration-&-Simulation-Techniques)\n",
    "    * [Setting Simulation Timesteps and Unit of Time `dt`](#Setting-Simulation-Timesteps-and-Unit-of-Time-dt)\n",
    "    * [Changing the Ethereum Network Upgrade Stage](#Changing-the-Ethereum-Network-Upgrade-Stage)\n",
    "    * [Performing Large-scale Experiments](#Performing-Large-scale-Experiments)"
   ]
  },
  {
   "cell_type": "markdown",
   "id": "5335577a",
   "metadata": {},
   "source": [
    "# Overview of Experiment Architecture\n",
    "\n",
    "The experiment architecture is composed of the following four elements – the **model**, **default experiment**, **experiment templates**, and **experiment notebooks**:\n",
    "\n",
    "1. The **model** is initialized with a default Initial State and set of System Parameters defined in the `model` module.\n",
    "2. The **default experiment** – in the `experiments.default_experiment` module – is an experiment composed of a single simulation that uses the default cadCAD **model** Initial State and System Parameters. Additional default simulation execution settings such as the number of timesteps and runs are also set in the **default experiment**.\n",
    "3. The **experiment templates** – in the `experiments.templates` module – contain pre-configured analyses based on the **default experiment**. Examples include `experiments.templates.time_domain_analysis` (simulation in the time-domain over a period of 5 years) and `experiments.templates.eth_price_sweep_analysis` (simulation in the phase-space sweeping over discrete ETH Price values).\n",
    "4. The **experiment notebooks** perform various scenario analyses by importing existing **experiment templates**, optionally modifying the Initial State and System Parameters within the notebook, and then executing them."
   ]
  },
  {
   "cell_type": "markdown",
   "id": "34345968",
   "metadata": {},
   "source": [
    "# Experiment Workflow\n",
    "\n",
    "If you just want to run (execute) existing experiment notebooks, simply open the respective notebook and execute all cells."
   ]
  },
  {
   "cell_type": "markdown",
   "id": "6a3d6ab4",
   "metadata": {},
   "source": [
    "Depending on the chosen template and planned analysis, the required imports might differ slightly from the below standard dependencies:"
   ]
  },
  {
   "cell_type": "code",
   "execution_count": 1,
   "id": "80e70b16",
   "metadata": {},
   "outputs": [
    {
     "name": "stdout",
     "output_type": "stream",
     "text": [
      "                                      snapped_at     price    market_cap  \\\n",
      "snapped_at                                                                 \n",
      "2020-11-19 00:00:00 UTC  2020-11-19 00:00:00 UTC  1.001286           NaN   \n",
      "2020-11-20 00:00:00 UTC  2020-11-20 00:00:00 UTC  1.001286           NaN   \n",
      "2020-11-21 00:00:00 UTC  2020-11-21 00:00:00 UTC  0.996715           NaN   \n",
      "2020-11-22 00:00:00 UTC  2020-11-22 00:00:00 UTC  1.000464           NaN   \n",
      "2020-11-23 00:00:00 UTC  2020-11-23 00:00:00 UTC  0.996929           NaN   \n",
      "...                                          ...       ...           ...   \n",
      "2022-01-01 00:00:00 UTC  2022-01-01 00:00:00 UTC  0.999276  9.898565e+07   \n",
      "2022-01-02 00:00:00 UTC  2022-01-02 00:00:00 UTC  1.004307  9.954311e+07   \n",
      "2022-01-03 00:00:00 UTC  2022-01-03 00:00:00 UTC  1.006285  1.005454e+08   \n",
      "2022-01-04 00:00:00 UTC  2022-01-04 00:00:00 UTC  1.008245  1.006277e+08   \n",
      "2022-01-05 00:00:00 UTC  2022-01-05 00:00:00 UTC  1.001720  1.020417e+08   \n",
      "\n",
      "                         total_volume        supply  \n",
      "snapped_at                                           \n",
      "2020-11-19 00:00:00 UTC  4.331555e+05           NaN  \n",
      "2020-11-20 00:00:00 UTC  4.331555e+05           NaN  \n",
      "2020-11-21 00:00:00 UTC  4.779370e+05           NaN  \n",
      "2020-11-22 00:00:00 UTC  3.035384e+05           NaN  \n",
      "2020-11-23 00:00:00 UTC  6.412243e+04           NaN  \n",
      "...                               ...           ...  \n",
      "2022-01-01 00:00:00 UTC  1.706836e+06  9.905739e+07  \n",
      "2022-01-02 00:00:00 UTC  6.372971e+05  9.911620e+07  \n",
      "2022-01-03 00:00:00 UTC  1.109323e+06  9.991743e+07  \n",
      "2022-01-04 00:00:00 UTC  9.184751e+05  9.980482e+07  \n",
      "2022-01-05 00:00:00 UTC  1.464793e+06  1.018665e+08  \n",
      "\n",
      "[413 rows x 5 columns]\n",
      "time: 405 ms (started: 2022-01-10 13:30:26 +01:00)\n"
     ]
    }
   ],
   "source": [
    "# Import the setup module:\n",
    "# * sets up the Python path\n",
    "# * runs shared notebook-configuration methods, such as loading IPython modules\n",
    "import setup\n",
    "\n",
    "# External dependencies\n",
    "import copy\n",
    "import logging\n",
    "import pandas as pd\n",
    "import plotly.express as px\n",
    "from pprint import pprint\n",
    "\n",
    "# Project dependencies\n",
    "import model.constants as constants\n",
    "import experiments.notebooks.visualizations as visualizations\n",
    "from experiments.run import run\n",
    "from experiments.utils import display_code"
   ]
  },
  {
   "cell_type": "markdown",
   "id": "8344e095",
   "metadata": {},
   "source": [
    "We can then import the default experiment, and create a copy of the simulation object – we create a new copy for each analysis we'd like to perform:"
   ]
  },
  {
   "cell_type": "code",
   "execution_count": 2,
   "id": "9a789f32",
   "metadata": {},
   "outputs": [
    {
     "name": "stdout",
     "output_type": "stream",
     "text": [
      "time: 300 ms (started: 2022-01-10 13:30:26 +01:00)\n"
     ]
    },
    {
     "name": "stderr",
     "output_type": "stream",
     "text": [
      "/Users/roman/Coding/cLabs/mento2-model/venv/lib/python3.10/site-packages/stochastic/processes/continuous/geometric_brownian_motion.py:88: RuntimeWarning: overflow encountered in exp\n",
      "  return initial * np.exp(self._line + noise)\n",
      "/Users/roman/Coding/cLabs/mento2-model/experiments/notebooks/../../model/stochastic_processes.py:28: RuntimeWarning: overflow encountered in multiply\n",
      "  samples = np.multiply(initial_cusd_demand, samples)\n"
     ]
    }
   ],
   "source": [
    "import experiments.default_experiment as default_experiment\n",
    "import experiments.templates.monte_carlo_analysis as monte_carlo_analysis\n",
    "\n",
    "simulation_analysis_1 = copy.deepcopy(default_experiment.experiment.simulations[0])\n",
    "simulation_analysis_2 = copy.deepcopy(monte_carlo_analysis.experiment.simulations[0])"
   ]
  },
  {
   "cell_type": "markdown",
   "id": "b9460b62",
   "metadata": {},
   "source": [
    "We can use the `display_code` method to see the configuration of the default experiment before making changes:"
   ]
  },
  {
   "cell_type": "code",
   "execution_count": 3,
   "id": "df71671c",
   "metadata": {},
   "outputs": [
    {
     "data": {
      "text/html": [
       "<style>pre { line-height: 125%; }\n",
       "td.linenos .normal { color: inherit; background-color: transparent; padding-left: 5px; padding-right: 5px; }\n",
       "span.linenos { color: inherit; background-color: transparent; padding-left: 5px; padding-right: 5px; }\n",
       "td.linenos .special { color: #000000; background-color: #ffffc0; padding-left: 5px; padding-right: 5px; }\n",
       "span.linenos.special { color: #000000; background-color: #ffffc0; padding-left: 5px; padding-right: 5px; }\n",
       ".highlight .hll { background-color: #ffffcc }\n",
       ".highlight { background: #f8f8f8; }\n",
       ".highlight .c { color: #408080; font-style: italic } /* Comment */\n",
       ".highlight .err { border: 1px solid #FF0000 } /* Error */\n",
       ".highlight .k { color: #008000; font-weight: bold } /* Keyword */\n",
       ".highlight .o { color: #666666 } /* Operator */\n",
       ".highlight .ch { color: #408080; font-style: italic } /* Comment.Hashbang */\n",
       ".highlight .cm { color: #408080; font-style: italic } /* Comment.Multiline */\n",
       ".highlight .cp { color: #BC7A00 } /* Comment.Preproc */\n",
       ".highlight .cpf { color: #408080; font-style: italic } /* Comment.PreprocFile */\n",
       ".highlight .c1 { color: #408080; font-style: italic } /* Comment.Single */\n",
       ".highlight .cs { color: #408080; font-style: italic } /* Comment.Special */\n",
       ".highlight .gd { color: #A00000 } /* Generic.Deleted */\n",
       ".highlight .ge { font-style: italic } /* Generic.Emph */\n",
       ".highlight .gr { color: #FF0000 } /* Generic.Error */\n",
       ".highlight .gh { color: #000080; font-weight: bold } /* Generic.Heading */\n",
       ".highlight .gi { color: #00A000 } /* Generic.Inserted */\n",
       ".highlight .go { color: #888888 } /* Generic.Output */\n",
       ".highlight .gp { color: #000080; font-weight: bold } /* Generic.Prompt */\n",
       ".highlight .gs { font-weight: bold } /* Generic.Strong */\n",
       ".highlight .gu { color: #800080; font-weight: bold } /* Generic.Subheading */\n",
       ".highlight .gt { color: #0044DD } /* Generic.Traceback */\n",
       ".highlight .kc { color: #008000; font-weight: bold } /* Keyword.Constant */\n",
       ".highlight .kd { color: #008000; font-weight: bold } /* Keyword.Declaration */\n",
       ".highlight .kn { color: #008000; font-weight: bold } /* Keyword.Namespace */\n",
       ".highlight .kp { color: #008000 } /* Keyword.Pseudo */\n",
       ".highlight .kr { color: #008000; font-weight: bold } /* Keyword.Reserved */\n",
       ".highlight .kt { color: #B00040 } /* Keyword.Type */\n",
       ".highlight .m { color: #666666 } /* Literal.Number */\n",
       ".highlight .s { color: #BA2121 } /* Literal.String */\n",
       ".highlight .na { color: #7D9029 } /* Name.Attribute */\n",
       ".highlight .nb { color: #008000 } /* Name.Builtin */\n",
       ".highlight .nc { color: #0000FF; font-weight: bold } /* Name.Class */\n",
       ".highlight .no { color: #880000 } /* Name.Constant */\n",
       ".highlight .nd { color: #AA22FF } /* Name.Decorator */\n",
       ".highlight .ni { color: #999999; font-weight: bold } /* Name.Entity */\n",
       ".highlight .ne { color: #D2413A; font-weight: bold } /* Name.Exception */\n",
       ".highlight .nf { color: #0000FF } /* Name.Function */\n",
       ".highlight .nl { color: #A0A000 } /* Name.Label */\n",
       ".highlight .nn { color: #0000FF; font-weight: bold } /* Name.Namespace */\n",
       ".highlight .nt { color: #008000; font-weight: bold } /* Name.Tag */\n",
       ".highlight .nv { color: #19177C } /* Name.Variable */\n",
       ".highlight .ow { color: #AA22FF; font-weight: bold } /* Operator.Word */\n",
       ".highlight .w { color: #bbbbbb } /* Text.Whitespace */\n",
       ".highlight .mb { color: #666666 } /* Literal.Number.Bin */\n",
       ".highlight .mf { color: #666666 } /* Literal.Number.Float */\n",
       ".highlight .mh { color: #666666 } /* Literal.Number.Hex */\n",
       ".highlight .mi { color: #666666 } /* Literal.Number.Integer */\n",
       ".highlight .mo { color: #666666 } /* Literal.Number.Oct */\n",
       ".highlight .sa { color: #BA2121 } /* Literal.String.Affix */\n",
       ".highlight .sb { color: #BA2121 } /* Literal.String.Backtick */\n",
       ".highlight .sc { color: #BA2121 } /* Literal.String.Char */\n",
       ".highlight .dl { color: #BA2121 } /* Literal.String.Delimiter */\n",
       ".highlight .sd { color: #BA2121; font-style: italic } /* Literal.String.Doc */\n",
       ".highlight .s2 { color: #BA2121 } /* Literal.String.Double */\n",
       ".highlight .se { color: #BB6622; font-weight: bold } /* Literal.String.Escape */\n",
       ".highlight .sh { color: #BA2121 } /* Literal.String.Heredoc */\n",
       ".highlight .si { color: #BB6688; font-weight: bold } /* Literal.String.Interpol */\n",
       ".highlight .sx { color: #008000 } /* Literal.String.Other */\n",
       ".highlight .sr { color: #BB6688 } /* Literal.String.Regex */\n",
       ".highlight .s1 { color: #BA2121 } /* Literal.String.Single */\n",
       ".highlight .ss { color: #19177C } /* Literal.String.Symbol */\n",
       ".highlight .bp { color: #008000 } /* Name.Builtin.Pseudo */\n",
       ".highlight .fm { color: #0000FF } /* Name.Function.Magic */\n",
       ".highlight .vc { color: #19177C } /* Name.Variable.Class */\n",
       ".highlight .vg { color: #19177C } /* Name.Variable.Global */\n",
       ".highlight .vi { color: #19177C } /* Name.Variable.Instance */\n",
       ".highlight .vm { color: #19177C } /* Name.Variable.Magic */\n",
       ".highlight .il { color: #666666 } /* Literal.Number.Integer.Long */</style>"
      ],
      "text/plain": [
       "<IPython.core.display.HTML object>"
      ]
     },
     "metadata": {},
     "output_type": "display_data"
    },
    {
     "data": {
      "text/html": [
       "<style>pre { line-height: 125%; }\n",
       "td.linenos .normal { color: inherit; background-color: transparent; padding-left: 5px; padding-right: 5px; }\n",
       "span.linenos { color: inherit; background-color: transparent; padding-left: 5px; padding-right: 5px; }\n",
       "td.linenos .special { color: #000000; background-color: #ffffc0; padding-left: 5px; padding-right: 5px; }\n",
       "span.linenos.special { color: #000000; background-color: #ffffc0; padding-left: 5px; padding-right: 5px; }\n",
       ".output_html .hll { background-color: #ffffcc }\n",
       ".output_html { background: #f8f8f8; }\n",
       ".output_html .c { color: #408080; font-style: italic } /* Comment */\n",
       ".output_html .err { border: 1px solid #FF0000 } /* Error */\n",
       ".output_html .k { color: #008000; font-weight: bold } /* Keyword */\n",
       ".output_html .o { color: #666666 } /* Operator */\n",
       ".output_html .ch { color: #408080; font-style: italic } /* Comment.Hashbang */\n",
       ".output_html .cm { color: #408080; font-style: italic } /* Comment.Multiline */\n",
       ".output_html .cp { color: #BC7A00 } /* Comment.Preproc */\n",
       ".output_html .cpf { color: #408080; font-style: italic } /* Comment.PreprocFile */\n",
       ".output_html .c1 { color: #408080; font-style: italic } /* Comment.Single */\n",
       ".output_html .cs { color: #408080; font-style: italic } /* Comment.Special */\n",
       ".output_html .gd { color: #A00000 } /* Generic.Deleted */\n",
       ".output_html .ge { font-style: italic } /* Generic.Emph */\n",
       ".output_html .gr { color: #FF0000 } /* Generic.Error */\n",
       ".output_html .gh { color: #000080; font-weight: bold } /* Generic.Heading */\n",
       ".output_html .gi { color: #00A000 } /* Generic.Inserted */\n",
       ".output_html .go { color: #888888 } /* Generic.Output */\n",
       ".output_html .gp { color: #000080; font-weight: bold } /* Generic.Prompt */\n",
       ".output_html .gs { font-weight: bold } /* Generic.Strong */\n",
       ".output_html .gu { color: #800080; font-weight: bold } /* Generic.Subheading */\n",
       ".output_html .gt { color: #0044DD } /* Generic.Traceback */\n",
       ".output_html .kc { color: #008000; font-weight: bold } /* Keyword.Constant */\n",
       ".output_html .kd { color: #008000; font-weight: bold } /* Keyword.Declaration */\n",
       ".output_html .kn { color: #008000; font-weight: bold } /* Keyword.Namespace */\n",
       ".output_html .kp { color: #008000 } /* Keyword.Pseudo */\n",
       ".output_html .kr { color: #008000; font-weight: bold } /* Keyword.Reserved */\n",
       ".output_html .kt { color: #B00040 } /* Keyword.Type */\n",
       ".output_html .m { color: #666666 } /* Literal.Number */\n",
       ".output_html .s { color: #BA2121 } /* Literal.String */\n",
       ".output_html .na { color: #7D9029 } /* Name.Attribute */\n",
       ".output_html .nb { color: #008000 } /* Name.Builtin */\n",
       ".output_html .nc { color: #0000FF; font-weight: bold } /* Name.Class */\n",
       ".output_html .no { color: #880000 } /* Name.Constant */\n",
       ".output_html .nd { color: #AA22FF } /* Name.Decorator */\n",
       ".output_html .ni { color: #999999; font-weight: bold } /* Name.Entity */\n",
       ".output_html .ne { color: #D2413A; font-weight: bold } /* Name.Exception */\n",
       ".output_html .nf { color: #0000FF } /* Name.Function */\n",
       ".output_html .nl { color: #A0A000 } /* Name.Label */\n",
       ".output_html .nn { color: #0000FF; font-weight: bold } /* Name.Namespace */\n",
       ".output_html .nt { color: #008000; font-weight: bold } /* Name.Tag */\n",
       ".output_html .nv { color: #19177C } /* Name.Variable */\n",
       ".output_html .ow { color: #AA22FF; font-weight: bold } /* Operator.Word */\n",
       ".output_html .w { color: #bbbbbb } /* Text.Whitespace */\n",
       ".output_html .mb { color: #666666 } /* Literal.Number.Bin */\n",
       ".output_html .mf { color: #666666 } /* Literal.Number.Float */\n",
       ".output_html .mh { color: #666666 } /* Literal.Number.Hex */\n",
       ".output_html .mi { color: #666666 } /* Literal.Number.Integer */\n",
       ".output_html .mo { color: #666666 } /* Literal.Number.Oct */\n",
       ".output_html .sa { color: #BA2121 } /* Literal.String.Affix */\n",
       ".output_html .sb { color: #BA2121 } /* Literal.String.Backtick */\n",
       ".output_html .sc { color: #BA2121 } /* Literal.String.Char */\n",
       ".output_html .dl { color: #BA2121 } /* Literal.String.Delimiter */\n",
       ".output_html .sd { color: #BA2121; font-style: italic } /* Literal.String.Doc */\n",
       ".output_html .s2 { color: #BA2121 } /* Literal.String.Double */\n",
       ".output_html .se { color: #BB6622; font-weight: bold } /* Literal.String.Escape */\n",
       ".output_html .sh { color: #BA2121 } /* Literal.String.Heredoc */\n",
       ".output_html .si { color: #BB6688; font-weight: bold } /* Literal.String.Interpol */\n",
       ".output_html .sx { color: #008000 } /* Literal.String.Other */\n",
       ".output_html .sr { color: #BB6688 } /* Literal.String.Regex */\n",
       ".output_html .s1 { color: #BA2121 } /* Literal.String.Single */\n",
       ".output_html .ss { color: #19177C } /* Literal.String.Symbol */\n",
       ".output_html .bp { color: #008000 } /* Name.Builtin.Pseudo */\n",
       ".output_html .fm { color: #0000FF } /* Name.Function.Magic */\n",
       ".output_html .vc { color: #19177C } /* Name.Variable.Class */\n",
       ".output_html .vg { color: #19177C } /* Name.Variable.Global */\n",
       ".output_html .vi { color: #19177C } /* Name.Variable.Instance */\n",
       ".output_html .vm { color: #19177C } /* Name.Variable.Magic */\n",
       ".output_html .il { color: #666666 } /* Literal.Number.Integer.Long */</style><div class=\"highlight\"><pre><span></span><span class=\"sd\">&quot;&quot;&quot;</span>\n",
       "<span class=\"sd\">The default experiment with default model, Initial State, System Parameters, and Simulation Configuration.</span>\n",
       "\n",
       "<span class=\"sd\">The defaults are defined in their respective modules:</span>\n",
       "<span class=\"sd\">* Initial State in `model/state_variables.py`</span>\n",
       "<span class=\"sd\">* System Parameters in `model/system_parameters.py`</span>\n",
       "<span class=\"sd\">* Simulation Configuration in `experiments/simulation_configuration.py`</span>\n",
       "<span class=\"sd\">&quot;&quot;&quot;</span>\n",
       "\n",
       "<span class=\"kn\">from</span> <span class=\"nn\">radcad</span> <span class=\"kn\">import</span> <span class=\"n\">Simulation</span><span class=\"p\">,</span> <span class=\"n\">Experiment</span><span class=\"p\">,</span> <span class=\"n\">Backend</span>\n",
       "\n",
       "<span class=\"kn\">from</span> <span class=\"nn\">model</span> <span class=\"kn\">import</span> <span class=\"n\">model</span>\n",
       "<span class=\"kn\">from</span> <span class=\"nn\">experiments.simulation_configuration</span> <span class=\"kn\">import</span> <span class=\"n\">TIMESTEPS</span><span class=\"p\">,</span> <span class=\"n\">MONTE_CARLO_RUNS</span>\n",
       "\n",
       "\n",
       "<span class=\"c1\"># Create Model Simulation</span>\n",
       "<span class=\"n\">simulation</span> <span class=\"o\">=</span> <span class=\"n\">Simulation</span><span class=\"p\">(</span>\n",
       "    <span class=\"n\">model</span><span class=\"o\">=</span><span class=\"n\">model</span><span class=\"p\">,</span>\n",
       "    <span class=\"n\">timesteps</span><span class=\"o\">=</span><span class=\"n\">TIMESTEPS</span><span class=\"p\">,</span>\n",
       "    <span class=\"n\">runs</span><span class=\"o\">=</span><span class=\"n\">MONTE_CARLO_RUNS</span>\n",
       "<span class=\"p\">)</span>\n",
       "<span class=\"c1\"># Create Experiment of single Simulation</span>\n",
       "<span class=\"n\">experiment</span> <span class=\"o\">=</span> <span class=\"n\">Experiment</span><span class=\"p\">([</span><span class=\"n\">simulation</span><span class=\"p\">])</span>\n",
       "<span class=\"c1\"># Configure Simulation &amp; Experiment engine</span>\n",
       "<span class=\"n\">simulation</span><span class=\"o\">.</span><span class=\"n\">engine</span> <span class=\"o\">=</span> <span class=\"n\">experiment</span><span class=\"o\">.</span><span class=\"n\">engine</span>\n",
       "<span class=\"n\">experiment</span><span class=\"o\">.</span><span class=\"n\">engine</span><span class=\"o\">.</span><span class=\"n\">backend</span> <span class=\"o\">=</span> <span class=\"n\">Backend</span><span class=\"o\">.</span><span class=\"n\">SINGLE_PROCESS</span>\n",
       "<span class=\"n\">experiment</span><span class=\"o\">.</span><span class=\"n\">engine</span><span class=\"o\">.</span><span class=\"n\">deepcopy</span> <span class=\"o\">=</span> <span class=\"kc\">False</span>\n",
       "<span class=\"n\">experiment</span><span class=\"o\">.</span><span class=\"n\">engine</span><span class=\"o\">.</span><span class=\"n\">drop_substeps</span> <span class=\"o\">=</span> <span class=\"kc\">True</span>  <span class=\"c1\"># Do not store data fpr substeps</span>\n",
       "</pre></div>\n"
      ],
      "text/latex": [
       "\\begin{Verbatim}[commandchars=\\\\\\{\\}]\n",
       "\\PY{l+s+sd}{\\PYZdq{}\\PYZdq{}\\PYZdq{}}\n",
       "\\PY{l+s+sd}{The default experiment with default model, Initial State, System Parameters, and Simulation Configuration.}\n",
       "\n",
       "\\PY{l+s+sd}{The defaults are defined in their respective modules:}\n",
       "\\PY{l+s+sd}{* Initial State in `model/state\\PYZus{}variables.py`}\n",
       "\\PY{l+s+sd}{* System Parameters in `model/system\\PYZus{}parameters.py`}\n",
       "\\PY{l+s+sd}{* Simulation Configuration in `experiments/simulation\\PYZus{}configuration.py`}\n",
       "\\PY{l+s+sd}{\\PYZdq{}\\PYZdq{}\\PYZdq{}}\n",
       "\n",
       "\\PY{k+kn}{from} \\PY{n+nn}{radcad} \\PY{k+kn}{import} \\PY{n}{Simulation}\\PY{p}{,} \\PY{n}{Experiment}\\PY{p}{,} \\PY{n}{Backend}\n",
       "\n",
       "\\PY{k+kn}{from} \\PY{n+nn}{model} \\PY{k+kn}{import} \\PY{n}{model}\n",
       "\\PY{k+kn}{from} \\PY{n+nn}{experiments}\\PY{n+nn}{.}\\PY{n+nn}{simulation\\PYZus{}configuration} \\PY{k+kn}{import} \\PY{n}{TIMESTEPS}\\PY{p}{,} \\PY{n}{MONTE\\PYZus{}CARLO\\PYZus{}RUNS}\n",
       "\n",
       "\n",
       "\\PY{c+c1}{\\PYZsh{} Create Model Simulation}\n",
       "\\PY{n}{simulation} \\PY{o}{=} \\PY{n}{Simulation}\\PY{p}{(}\n",
       "    \\PY{n}{model}\\PY{o}{=}\\PY{n}{model}\\PY{p}{,}\n",
       "    \\PY{n}{timesteps}\\PY{o}{=}\\PY{n}{TIMESTEPS}\\PY{p}{,}\n",
       "    \\PY{n}{runs}\\PY{o}{=}\\PY{n}{MONTE\\PYZus{}CARLO\\PYZus{}RUNS}\n",
       "\\PY{p}{)}\n",
       "\\PY{c+c1}{\\PYZsh{} Create Experiment of single Simulation}\n",
       "\\PY{n}{experiment} \\PY{o}{=} \\PY{n}{Experiment}\\PY{p}{(}\\PY{p}{[}\\PY{n}{simulation}\\PY{p}{]}\\PY{p}{)}\n",
       "\\PY{c+c1}{\\PYZsh{} Configure Simulation \\PYZam{} Experiment engine}\n",
       "\\PY{n}{simulation}\\PY{o}{.}\\PY{n}{engine} \\PY{o}{=} \\PY{n}{experiment}\\PY{o}{.}\\PY{n}{engine}\n",
       "\\PY{n}{experiment}\\PY{o}{.}\\PY{n}{engine}\\PY{o}{.}\\PY{n}{backend} \\PY{o}{=} \\PY{n}{Backend}\\PY{o}{.}\\PY{n}{SINGLE\\PYZus{}PROCESS}\n",
       "\\PY{n}{experiment}\\PY{o}{.}\\PY{n}{engine}\\PY{o}{.}\\PY{n}{deepcopy} \\PY{o}{=} \\PY{k+kc}{False}\n",
       "\\PY{n}{experiment}\\PY{o}{.}\\PY{n}{engine}\\PY{o}{.}\\PY{n}{drop\\PYZus{}substeps} \\PY{o}{=} \\PY{k+kc}{True}  \\PY{c+c1}{\\PYZsh{} Do not store data fpr substeps}\n",
       "\\end{Verbatim}\n"
      ],
      "text/plain": [
       "\"\"\"\n",
       "The default experiment with default model, Initial State, System Parameters, and Simulation Configuration.\n",
       "\n",
       "The defaults are defined in their respective modules:\n",
       "* Initial State in `model/state_variables.py`\n",
       "* System Parameters in `model/system_parameters.py`\n",
       "* Simulation Configuration in `experiments/simulation_configuration.py`\n",
       "\"\"\"\n",
       "\n",
       "from radcad import Simulation, Experiment, Backend\n",
       "\n",
       "from model import model\n",
       "from experiments.simulation_configuration import TIMESTEPS, MONTE_CARLO_RUNS\n",
       "\n",
       "\n",
       "# Create Model Simulation\n",
       "simulation = Simulation(\n",
       "    model=model,\n",
       "    timesteps=TIMESTEPS,\n",
       "    runs=MONTE_CARLO_RUNS\n",
       ")\n",
       "# Create Experiment of single Simulation\n",
       "experiment = Experiment([simulation])\n",
       "# Configure Simulation & Experiment engine\n",
       "simulation.engine = experiment.engine\n",
       "experiment.engine.backend = Backend.SINGLE_PROCESS\n",
       "experiment.engine.deepcopy = False\n",
       "experiment.engine.drop_substeps = True  # Do not store data fpr substeps"
      ]
     },
     "execution_count": 3,
     "metadata": {},
     "output_type": "execute_result"
    },
    {
     "name": "stdout",
     "output_type": "stream",
     "text": [
      "time: 71.1 ms (started: 2022-01-10 13:30:27 +01:00)\n"
     ]
    }
   ],
   "source": [
    "display_code(default_experiment)"
   ]
  },
  {
   "cell_type": "markdown",
   "id": "04bd7d53",
   "metadata": {},
   "source": [
    "## Modifying State Variables"
   ]
  },
  {
   "cell_type": "markdown",
   "id": "5807d1db",
   "metadata": {},
   "source": [
    "To view what the Initial State (radCAD model-configuration setting `initial_state`) of the State Variables are, and to what value they have been set, we can inspect the dictionary as follows:"
   ]
  },
  {
   "cell_type": "code",
   "execution_count": 4,
   "id": "466f9f7f",
   "metadata": {},
   "outputs": [
    {
     "name": "stdout",
     "output_type": "stream",
     "text": [
      "{'celo_price': 3.3843676128627402,\n",
      " 'cusd_price': 1.0,\n",
      " 'floating_supply': {'celo': 187391026.43773282, 'cusd': 59011440.89484415},\n",
      " 'mento_buckets': {'celo': 0.0, 'cusd': 0.0},\n",
      " 'mento_rate': 3.3843676128627402,\n",
      " 'reserve_account': {'account_id': 0, 'celo': 120000000.0, 'cusd': 0.0},\n",
      " 'timestamp': None}\n",
      "time: 20 ms (started: 2022-01-10 13:30:27 +01:00)\n"
     ]
    }
   ],
   "source": [
    "pprint(simulation_analysis_1.model.initial_state)"
   ]
  },
  {
   "cell_type": "markdown",
   "id": "0f20397e",
   "metadata": {},
   "source": [
    "To modify the value of **State Variables** for a specific analysis, you need to select the relevant simulation and update the chosen model Initial State. For example, updating the `eth_supply` Initial State to `100e6` (100 million ETH):"
   ]
  },
  {
   "cell_type": "code",
   "execution_count": 5,
   "id": "c6ac17d6",
   "metadata": {},
   "outputs": [
    {
     "name": "stdout",
     "output_type": "stream",
     "text": [
      "time: 21.2 ms (started: 2022-01-10 13:30:27 +01:00)\n"
     ]
    }
   ],
   "source": [
    "simulation_analysis_1.model.initial_state.update({\n",
    "    \"celo_supply\": 100e6,\n",
    "})"
   ]
  },
  {
   "cell_type": "markdown",
   "id": "2cb589e5",
   "metadata": {},
   "source": [
    "## Modifying System Parameters"
   ]
  },
  {
   "cell_type": "markdown",
   "id": "fbdcf7ed",
   "metadata": {},
   "source": [
    "To view what the System Parameters (radCAD model configuration setting `params`) are, and to what value they have been set, we can inspect the dictionary as follows:"
   ]
  },
  {
   "cell_type": "code",
   "execution_count": 6,
   "id": "aacdf992",
   "metadata": {},
   "outputs": [
    {
     "name": "stdout",
     "output_type": "stream",
     "text": [
      "{'bucket_update_frequency_seconds': [300],\n",
      " 'date_irps': [datetime.datetime(2022, 3, 1, 0, 0)],\n",
      " 'date_stability_providers': [datetime.datetime(2022, 10, 1, 0, 0)],\n",
      " 'date_start': [datetime.datetime(2022, 1, 10, 13, 30, 26, 739081)],\n",
      " 'dt': [1],\n",
      " 'initial_cusd_demand': [10000000],\n",
      " 'max_sell_amount': [100],\n",
      " 'reserve_fraction': [0.01],\n",
      " 'spread': [0.005],\n",
      " 'stage': [<Stage.Mento1: 1>]}\n",
      "time: 20.4 ms (started: 2022-01-10 13:30:27 +01:00)\n"
     ]
    }
   ],
   "source": [
    "pprint(simulation_analysis_1.model.params)"
   ]
  },
  {
   "cell_type": "markdown",
   "id": "7471a5ed",
   "metadata": {},
   "source": [
    "To modify the value of **System Parameters** for a specific analysis, you need to select the relevant simulation, and update the chosen model System Parameter (which is a list of values). For example, updating the `BASE_REWARD_FACTOR` System Parameter to a sweep of two values, `64` and `32`:"
   ]
  },
  {
   "cell_type": "code",
   "execution_count": 7,
   "id": "650c6e84",
   "metadata": {},
   "outputs": [
    {
     "name": "stdout",
     "output_type": "stream",
     "text": [
      "time: 22.5 ms (started: 2022-01-10 13:30:27 +01:00)\n"
     ]
    }
   ],
   "source": [
    "simulation_analysis_1.model.params.update({\n",
    "    \"max_sell_amount\": [100, 1000],\n",
    "})"
   ]
  },
  {
   "cell_type": "markdown",
   "id": "de531fb7",
   "metadata": {},
   "source": [
    "## Executing Experiments"
   ]
  },
  {
   "cell_type": "markdown",
   "id": "bb69b0e8",
   "metadata": {},
   "source": [
    "We can now execute our custom analysis and retrieve the post-processed Pandas DataFrame using the `run(...)` method:"
   ]
  },
  {
   "cell_type": "code",
   "execution_count": null,
   "id": "6125f40a",
   "metadata": {
    "pycharm": {
     "name": "#%%\n"
    }
   },
   "outputs": [
    {
     "name": "stdout",
     "output_type": "stream",
     "text": [
      "2022-01-10 13:30:27,381 - root - INFO - Running experiment\n",
      "2022-01-10 13:30:27,383 - root - INFO - Starting simulation 0 / run 0 / subset 0\n"
     ]
    }
   ],
   "source": [
    "df, exceptions = run(simulation_analysis_1)\n"
   ]
  },
  {
   "cell_type": "markdown",
   "id": "d08319ab",
   "metadata": {},
   "source": [
    "## Post-processing and Analysing Results"
   ]
  },
  {
   "cell_type": "markdown",
   "id": "cf691aa9",
   "metadata": {},
   "source": [
    "We can see that we had no exceptions for the single simulation we executed:"
   ]
  },
  {
   "cell_type": "code",
   "execution_count": null,
   "id": "dbb2f778",
   "metadata": {},
   "outputs": [],
   "source": [
    "exceptions[0]['exception'] == None"
   ]
  },
  {
   "cell_type": "markdown",
   "id": "74b7756c",
   "metadata": {},
   "source": [
    "We can simply display the Pandas DataFrame to inspect the results. This DataFrame already has some default post-processing applied (see [experiments/post_processing.py](../post_processing.py))"
   ]
  },
  {
   "cell_type": "code",
   "execution_count": null,
   "id": "d4326124",
   "metadata": {},
   "outputs": [],
   "source": [
    "df"
   ]
  },
  {
   "cell_type": "markdown",
   "id": "9647375d-7516-4e26-9dd7-eee458d3aab7",
   "metadata": {},
   "source": [
    "We can also use Pandas for numerical analyses:"
   ]
  },
  {
   "cell_type": "code",
   "execution_count": null,
   "id": "8e52f2be-059b-4762-b0e2-a6228d7efdaa",
   "metadata": {},
   "outputs": [],
   "source": [
    "# Get the maximum validating rewards in ETH for each subset\n",
    "df.groupby('subset')['validating_rewards'].max() / constants.gwei"
   ]
  },
  {
   "cell_type": "markdown",
   "id": "26f2e7ef",
   "metadata": {},
   "source": [
    "## Visualizing Results"
   ]
  },
  {
   "cell_type": "markdown",
   "id": "6ac53e3b",
   "metadata": {},
   "source": [
    "Once we have the results post-processed and in a Pandas DataFrame, we can use Plotly for plotting our results:"
   ]
  },
  {
   "cell_type": "code",
   "execution_count": null,
   "id": "44c4d969",
   "metadata": {},
   "outputs": [],
   "source": [
    "# Plot the total validating rewards in ETH for each subset\n",
    "px.line(df, x='timestamp', y='validating_rewards_eth', facet_col='subset')"
   ]
  },
  {
   "cell_type": "code",
   "execution_count": null,
   "id": "658cc61b-001e-4342-b4b3-b071a59c08be",
   "metadata": {},
   "outputs": [],
   "source": [
    "# Plot the individual validating rewards in ETH for each subset\n",
    "visualizations.plot_validating_rewards(df, subplot_titles=[\"Base Reward Factor = 64\", \"Base Reward Factor = 32\"])"
   ]
  },
  {
   "cell_type": "markdown",
   "id": "3bb124e9",
   "metadata": {},
   "source": [
    "# Creating New, Customized Experiment Notebooks\n",
    "\n",
    "If you want to create an entirely new analysis, you'll need to create a new experiment notebook, which entails the following steps:\n",
    "* Step 1: Select an experiment template from the `experiments/templates/` directory to start from. If you'd like to create your own template, the [example_analysis.py](../templates/example_analysis.py) template gives an example of extending the default experiment to override default State Variables and System Parameters that you can copy.\n",
    "* Step 2: Create a new notebook in the `experiments/notebooks/` directory, using the [template.ipynb](./template.ipynb) notebook as a guide, and import the experiment from the experiment template.\n",
    "* Step 3: Customize the experiment for your specific analysis.\n",
    "* Step 4: Execute your experiment, post-process and analyze the results, and create Plotly charts!"
   ]
  },
  {
   "cell_type": "markdown",
   "id": "239bfea4",
   "metadata": {},
   "source": [
    "# Advanced Experiment-configuration & Simulation Techniques"
   ]
  },
  {
   "cell_type": "markdown",
   "id": "616a0876",
   "metadata": {},
   "source": [
    "## Setting Simulation Timesteps and Unit of Time `dt`"
   ]
  },
  {
   "cell_type": "code",
   "execution_count": null,
   "id": "cb7b71f4",
   "metadata": {},
   "outputs": [],
   "source": [
    "from experiments.simulation_configuration import TIMESTEPS, DELTA_TIME, SIMULATION_TIME_MONTHS"
   ]
  },
  {
   "cell_type": "markdown",
   "id": "f1b8afec",
   "metadata": {},
   "source": [
    "We can configure the number of simulation timesteps `TIMESTEPS` from a simulation time in months `SIMULATION_TIME_MONTHS`, multiplied by the number of epochs in a month, and divided by the simulation unit of time `DELTA_TIME`:"
   ]
  },
  {
   "cell_type": "code",
   "execution_count": null,
   "id": "ce21a6ae",
   "metadata": {},
   "outputs": [],
   "source": [
    "SIMULATION_TIME_MONTHS / 12  # Divide months by 12 to get number of years"
   ]
  },
  {
   "cell_type": "markdown",
   "id": "2522ddd4",
   "metadata": {},
   "source": [
    "`DELTA_TIME` is a variable that sets how many epochs are simulated for each timestep. Sometimes, if we don't need a finer granularity (1 epoch per timestep, for example), we can then set `DELTA_TIME` to a larger value for better performance. The default value is 1 day or `225` epochs. This means that all our time-based states will be for a period of 1 day (we call this \"aggregation\"), which is convenient."
   ]
  },
  {
   "cell_type": "code",
   "execution_count": null,
   "id": "e0062645",
   "metadata": {},
   "outputs": [],
   "source": [
    "DELTA_TIME"
   ]
  },
  {
   "cell_type": "markdown",
   "id": "460e7a7a",
   "metadata": {},
   "source": [
    "`TIMESTEPS` is now simply the simulation time in months, multiplied by the number of epochs in a month, divided by `DELTA_TIME`:"
   ]
  },
  {
   "cell_type": "markdown",
   "id": "31103059",
   "metadata": {},
   "source": [
    "```python\n",
    "TIMESTEPS = constants.epochs_per_month * SIMULATION_TIME_MONTHS // DELTA_TIME\n",
    "```"
   ]
  },
  {
   "cell_type": "code",
   "execution_count": null,
   "id": "3568dcc2",
   "metadata": {},
   "outputs": [],
   "source": [
    "TIMESTEPS"
   ]
  },
  {
   "cell_type": "markdown",
   "id": "3c877b56",
   "metadata": {},
   "source": [
    "Finally, to set the simulation timesteps (note, you may have to update the environmental processes that depend on the number of timesteps, and override the relevant parameters):"
   ]
  },
  {
   "cell_type": "code",
   "execution_count": null,
   "id": "d7f070d6",
   "metadata": {},
   "outputs": [],
   "source": [
    "simulation_analysis_1.timesteps = TIMESTEPS"
   ]
  },
  {
   "cell_type": "markdown",
   "id": "9113b2bf",
   "metadata": {},
   "source": [
    "### Considerations When Performing Efficient Phase-space Simulations"
   ]
  },
  {
   "cell_type": "markdown",
   "id": "bf01829f",
   "metadata": {},
   "source": [
    "In `simulation_analysis_3`, `timesteps` is decreased to `1`, but `dt` is increased to `TIMESTEPS * DELTA_TIME`, where `DELTA_TIME` is the full duration of the simulation. This produces the final result in a single processing cycle, producing the full phase-space with very low processing overhead. This is achieved by ignoring all time-series information between the beginning and end of the simulation.\n",
    "\n",
    "There is a test function `test_dt(...)` in `tests/test_integration.py` that can be used to verify that no information is lost due to the approximations taken along the time axis for the specific State Variables that you are interested in, and that your custom code has not introduced mechanisms that might not work well with this kind of approximation. \n",
    "\n",
    "An example of a type of mechanism that would not work with this kind of approximation is a mechanism that implements some form of feedback loop."
   ]
  },
  {
   "cell_type": "markdown",
   "id": "2b9011d0",
   "metadata": {},
   "source": [
    "## Changing the Ethereum Network Upgrade Stage"
   ]
  },
  {
   "cell_type": "markdown",
   "id": "c871e49a",
   "metadata": {},
   "source": [
    "The model operates over different Ethereum-network upgrade stages. The default experiment operates in the \"post-merge\" Proof of Stake stage.\n",
    "\n",
    "`Stage` is an Enum; we can import it and see what options we have:"
   ]
  },
  {
   "cell_type": "code",
   "execution_count": null,
   "id": "8f3a5e5a",
   "metadata": {},
   "outputs": [],
   "source": [
    "from model.types import Stage"
   ]
  },
  {
   "cell_type": "markdown",
   "id": "2fd3d0b8",
   "metadata": {},
   "source": [
    "The model is well documented, and we can view the Python docstring to see what a Stage is, and create a dictionary to view the Enum members:"
   ]
  },
  {
   "cell_type": "code",
   "execution_count": null,
   "id": "a560f5be",
   "metadata": {},
   "outputs": [],
   "source": [
    "print(Stage.__doc__)\n",
    "{e.name: e.value for e in Stage}"
   ]
  },
  {
   "cell_type": "markdown",
   "id": "25891c08",
   "metadata": {},
   "source": [
    "The `PROOF_OF_STAKE` stage, for example, assumes the Beacon Chain has been implemented, EIP-1559 has been enabled, and POW issuance is disabled:"
   ]
  },
  {
   "cell_type": "code",
   "execution_count": null,
   "id": "b251c46a",
   "metadata": {},
   "outputs": [],
   "source": [
    "display_code(Stage)"
   ]
  },
  {
   "cell_type": "markdown",
   "id": "3d083401",
   "metadata": {},
   "source": [
    "As before, we can update the \"stage\" System Parameter to set the relevant Stage:"
   ]
  },
  {
   "cell_type": "code",
   "execution_count": null,
   "id": "fe95b515",
   "metadata": {},
   "outputs": [],
   "source": [
    "simulation_analysis_1.model.params.update({\n",
    "    \"stage\": [Stage.PROOF_OF_STAKE]\n",
    "})"
   ]
  },
  {
   "cell_type": "markdown",
   "id": "b87aa002",
   "metadata": {},
   "source": [
    "## Performing Large-scale Experiments"
   ]
  },
  {
   "cell_type": "markdown",
   "id": "8d08f7cb",
   "metadata": {},
   "source": [
    "When executing an experiment, we have three degrees of freedom - **simulations, runs, and subsets** (parameter sweeps).\n",
    "\n",
    "We can have multiple simulations for a single experiment, multiple runs for every simulation, and we can have multiple subsets for every run. Remember that `simulation`, `run`, and `subset` are simply additional State Variables set by the radCAD engine during execution – we then use those State Variables to index the results for a specific dimension, e.g. simulation 1, run 5, and subset 2.\n",
    "\n",
    "Each dimension has a generally accepted purpose:\n",
    "* Simulations are used for A/B testing\n",
    "* Runs are used for Monte Carlo analysis\n",
    "* Subsets are used for parameter sweeps\n",
    "\n",
    "In some cases, we break these \"rules\" to allow for more degrees of freedom or easier configuration.\n",
    "\n",
    "One example of this is the `eth_price_eth_staked_grid_analysis` experiment template we imported earlier:"
   ]
  },
  {
   "cell_type": "code",
   "execution_count": null,
   "id": "82d7720a",
   "metadata": {},
   "outputs": [],
   "source": [
    "display_code(eth_price_eth_staked_grid_analysis)"
   ]
  },
  {
   "cell_type": "markdown",
   "id": "7478d82a",
   "metadata": {},
   "source": [
    "Here, we create a grid of two State Variables – ETH price and ETH staked – using the `eth_price_process` and `eth_staked_process`.\n",
    "\n",
    "Instead of sweeping the two System Parameters to create different subsets, we pre-generate all possible combinations of the two values first and use the specific `run` to index the data, i.e. for each run we get a new ETH price and ETH staked sample.\n",
    "\n",
    "This allows the experimenter (you!) to use a parameter sweep on top of this analysis if they choose, and we have kept one degree of freedom."
   ]
  },
  {
   "cell_type": "markdown",
   "id": "fe247f18",
   "metadata": {},
   "source": [
    "### Composing an Experiment Using **simulations, runs, and subsets**"
   ]
  },
  {
   "cell_type": "code",
   "execution_count": null,
   "id": "99b0be11",
   "metadata": {},
   "outputs": [],
   "source": [
    "from radcad import Experiment, Engine, Backend\n",
    "\n",
    "\n",
    "# Create a new Experiment of three Simulations:\n",
    "# * Simulation Analysis 1 has one run and two subsets – a parameter sweep of two values (BASE_REWARD_FACTOR = [64, 32])\n",
    "# * Simulation Analysis 2 has one run and one subset – a basic simulation configuration\n",
    "# * Simulation Analysis 3 has 400 runs (20 * 20) and one subset – a parameter grid indexed using `run`\n",
    "experiment = Experiment([simulation_analysis_1, simulation_analysis_2, simulation_analysis_3])"
   ]
  },
  {
   "cell_type": "markdown",
   "id": "eb7be8ca",
   "metadata": {},
   "source": [
    "### Configuring the radCAD Engine for High Performance\n",
    "\n",
    "To improve simulation performance for large-scale experiments, we can set the following settings using the radCAD `Engine`. Both Experiments and Simulations have the same `Engine`; when executing an `Experiment` we set these settings on the `Experiment` instance:"
   ]
  },
  {
   "cell_type": "code",
   "execution_count": null,
   "id": "3dea43e2",
   "metadata": {},
   "outputs": [],
   "source": [
    "# Configure Experiment Engine\n",
    "experiment.engine = Engine(\n",
    "    # Use a single process; the overhead of creating multiple processes\n",
    "    # for parallel-processing is only worthwhile when the Simulation runtime is long\n",
    "    backend = Backend.SINGLE_PROCESS,\n",
    "    # Disable System Parameter and State Variable deepcopy:\n",
    "    # * Deepcopy prevents mutation of state at the cost of lower performance\n",
    "    # * Disabling it leaves it up to the experimenter to use Python best-practises to avoid \n",
    "    # state mutation, like manually using `copy` and `deepcopy` methods before\n",
    "    # performing mutating calculations when necessary\n",
    "    deepcopy = False,\n",
    "    # If we don't need the state history from individual substeps,\n",
    "    # we can get rid of them for higher performance\n",
    "    drop_substeps = True,\n",
    ")\n",
    "\n",
    "# Disable logging\n",
    "# For large experiments, there is lots of logging. This can get messy...\n",
    "logger = logging.getLogger()\n",
    "logger.disabled = True\n",
    "\n",
    "# Execute Experiment\n",
    "raw_results = experiment.run()"
   ]
  },
  {
   "cell_type": "markdown",
   "id": "b4b7b571",
   "metadata": {},
   "source": [
    "### Indexing a Large-scale Experiment Dataset"
   ]
  },
  {
   "cell_type": "code",
   "execution_count": null,
   "id": "b26e20a3",
   "metadata": {},
   "outputs": [],
   "source": [
    "# Create a Pandas DataFrame from the raw results\n",
    "df = pd.DataFrame(experiment.results)\n",
    "df"
   ]
  },
  {
   "cell_type": "code",
   "execution_count": null,
   "id": "92a9b2c6",
   "metadata": {},
   "outputs": [],
   "source": [
    "# Select each Simulation dataset\n",
    "df_0 = df[df.simulation == 0]\n",
    "df_1 = df[df.simulation == 1]\n",
    "df_2 = df[df.simulation == 2]\n",
    "\n",
    "datasets = [df_0, df_1, df_2]\n",
    "\n",
    "# Determine size of Simulation datasets\n",
    "for index, data in enumerate(datasets):\n",
    "    runs = len(data.run.unique())\n",
    "    subsets = len(data.subset.unique())\n",
    "    timesteps = len(data.timestep.unique())\n",
    "    \n",
    "    print(f\"Simulation {index} has {runs} runs * {subsets} subsets * {timesteps} timesteps = {runs * subsets * timesteps} rows\")"
   ]
  },
  {
   "cell_type": "code",
   "execution_count": null,
   "id": "4cca413b",
   "metadata": {},
   "outputs": [],
   "source": [
    "# Indexing simulation 0, run 1 (indexed from one!), subset 1, timestep 1\n",
    "df.query(\"simulation == 0 and run == 1 and subset == 1 and timestep == 1\")"
   ]
  }
 ],
 "metadata": {
  "kernelspec": {
   "display_name": "Python 3",
   "language": "python",
   "name": "python3"
  },
  "language_info": {
   "codemirror_mode": {
    "name": "ipython",
    "version": 3
   },
   "file_extension": ".py",
   "mimetype": "text/x-python",
   "name": "python",
   "nbconvert_exporter": "python",
   "pygments_lexer": "ipython3",
   "version": "3.10.0"
  }
 },
 "nbformat": 4,
 "nbformat_minor": 5
}